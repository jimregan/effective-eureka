{
  "nbformat": 4,
  "nbformat_minor": 0,
  "metadata": {
    "colab": {
      "name": "extract-differences",
      "provenance": [],
      "collapsed_sections": [],
      "authorship_tag": "ABX9TyMP76ZU+zBqz3QO0VtzewUu",
      "include_colab_link": true
    },
    "kernelspec": {
      "name": "python3",
      "display_name": "Python 3"
    }
  },
  "cells": [
    {
      "cell_type": "markdown",
      "metadata": {
        "id": "view-in-github",
        "colab_type": "text"
      },
      "source": [
        "<a href=\"https://colab.research.google.com/github/jimregan/effective-eureka/blob/master/extract_differences.ipynb\" target=\"_parent\"><img src=\"https://colab.research.google.com/assets/colab-badge.svg\" alt=\"Open In Colab\"/></a>"
      ]
    },
    {
      "cell_type": "code",
      "metadata": {
        "id": "0eLuD7NAccHV",
        "colab_type": "code",
        "colab": {
          "base_uri": "https://localhost:8080/",
          "height": 1000
        },
        "outputId": "28f063e0-9751-4a73-f5ae-403de840f19b"
      },
      "source": [
        "!git clone https://github.com/jimregan/effective-eureka\n",
        "!bash effective-eureka/scripts/download-poleval-data.sh\n",
        "!bash effective-eureka/scripts/unzip-files.sh"
      ],
      "execution_count": 1,
      "outputs": [
        {
          "output_type": "stream",
          "text": [
            "Cloning into 'effective-eureka'...\n",
            "remote: Enumerating objects: 50, done.\u001b[K\n",
            "remote: Counting objects: 100% (50/50), done.\u001b[K\n",
            "remote: Compressing objects: 100% (41/41), done.\u001b[K\n",
            "remote: Total 50 (delta 10), reused 44 (delta 8), pack-reused 0\u001b[K\n",
            "Unpacking objects: 100% (50/50), done.\n",
            "--2020-08-20 11:21:24--  http://poleval.pl/task1/ClarinPlTrain.zip\n",
            "Resolving poleval.pl (poleval.pl)... 213.135.36.94\n",
            "Connecting to poleval.pl (poleval.pl)|213.135.36.94|:80... connected.\n",
            "HTTP request sent, awaiting response... 200 OK\n",
            "Length: 40044998 (38M) [application/zip]\n",
            "Saving to: ‘ClarinPlTrain.zip’\n",
            "\n",
            "ClarinPlTrain.zip   100%[===================>]  38.19M  13.4MB/s    in 2.9s    \n",
            "\n",
            "2020-08-20 11:21:28 (13.4 MB/s) - ‘ClarinPlTrain.zip’ saved [40044998/40044998]\n",
            "\n",
            "--2020-08-20 11:21:28--  http://poleval.pl/task1/ClarinPlTest.zip\n",
            "Reusing existing connection to poleval.pl:80.\n",
            "HTTP request sent, awaiting response... 200 OK\n",
            "Length: 5041323 (4.8M) [application/zip]\n",
            "Saving to: ‘ClarinPlTest.zip’\n",
            "\n",
            "ClarinPlTest.zip    100%[===================>]   4.81M  --.-KB/s    in 0.1s    \n",
            "\n",
            "2020-08-20 11:21:28 (33.9 MB/s) - ‘ClarinPlTest.zip’ saved [5041323/5041323]\n",
            "\n",
            "--2020-08-20 11:21:28--  http://poleval.pl/task1/ClarinPlDev.zip\n",
            "Reusing existing connection to poleval.pl:80.\n",
            "HTTP request sent, awaiting response... 200 OK\n",
            "Length: 4662506 (4.4M) [application/zip]\n",
            "Saving to: ‘ClarinPlDev.zip’\n",
            "\n",
            "ClarinPlDev.zip     100%[===================>]   4.45M  --.-KB/s    in 0.1s    \n",
            "\n",
            "2020-08-20 11:21:28 (31.5 MB/s) - ‘ClarinPlDev.zip’ saved [4662506/4662506]\n",
            "\n",
            "--2020-08-20 11:21:28--  http://poleval.pl/task1/Sejm.zip\n",
            "Reusing existing connection to poleval.pl:80.\n",
            "HTTP request sent, awaiting response... 200 OK\n",
            "Length: 323688630 (309M) [application/zip]\n",
            "Saving to: ‘Sejm.zip’\n",
            "\n",
            "Sejm.zip            100%[===================>] 308.69M  24.0MB/s    in 13s     \n",
            "\n",
            "2020-08-20 11:21:41 (23.7 MB/s) - ‘Sejm.zip’ saved [323688630/323688630]\n",
            "\n",
            "FINISHED --2020-08-20 11:21:41--\n",
            "Total wall clock time: 17s\n",
            "Downloaded: 4 files, 356M in 16s (22.0 MB/s)\n",
            "/content/ClarinPlDev /content\n",
            "Archive:  ../ClarinPlDev.zip\n",
            "  inflating: 1best.txt               \n",
            "  inflating: lat.txt                 \n",
            "  inflating: nbest.txt               \n",
            "  inflating: reference.txt           \n",
            "/content\n",
            "/content/ClarinPlTest /content\n",
            "Archive:  ../ClarinPlTest.zip\n",
            "  inflating: 1best.txt               \n",
            "  inflating: lat.txt                 \n",
            "  inflating: nbest.txt               \n",
            "  inflating: reference.txt           \n",
            "/content\n",
            "/content/ClarinPlTrain /content\n",
            "Archive:  ../ClarinPlTrain.zip\n",
            "  inflating: 1best.txt               \n",
            "  inflating: lat.txt                 \n",
            "  inflating: nbest.txt               \n",
            "  inflating: reference.txt           \n",
            "/content\n",
            "Archive:  Sejm.zip\n",
            "   creating: Sejm/\n",
            "  inflating: Sejm/1best.txt          \n",
            "  inflating: Sejm/lat.txt            \n",
            "  inflating: Sejm/reference.txt      \n",
            "  inflating: Sejm/nbest.txt          \n"
          ],
          "name": "stdout"
        }
      ]
    },
    {
      "cell_type": "code",
      "metadata": {
        "id": "ZN09HLI1Fk57",
        "colab_type": "code",
        "colab": {
          "base_uri": "https://localhost:8080/",
          "height": 374
        },
        "outputId": "833ec491-ad85-4466-e068-2fac26735e05"
      },
      "source": [
        "!apt install wdiff"
      ],
      "execution_count": 2,
      "outputs": [
        {
          "output_type": "stream",
          "text": [
            "Reading package lists... Done\n",
            "Building dependency tree       \n",
            "Reading state information... Done\n",
            "The following package was automatically installed and is no longer required:\n",
            "  libnvidia-common-440\n",
            "Use 'apt autoremove' to remove it.\n",
            "Suggested packages:\n",
            "  wdiff-doc\n",
            "The following NEW packages will be installed:\n",
            "  wdiff\n",
            "0 upgraded, 1 newly installed, 0 to remove and 35 not upgraded.\n",
            "Need to get 29.6 kB of archives.\n",
            "After this operation, 119 kB of additional disk space will be used.\n",
            "Get:1 http://archive.ubuntu.com/ubuntu bionic/main amd64 wdiff amd64 1.2.2-2 [29.6 kB]\n",
            "Fetched 29.6 kB in 0s (98.9 kB/s)\n",
            "Selecting previously unselected package wdiff.\n",
            "(Reading database ... 144487 files and directories currently installed.)\n",
            "Preparing to unpack .../wdiff_1.2.2-2_amd64.deb ...\n",
            "Unpacking wdiff (1.2.2-2) ...\n",
            "Setting up wdiff (1.2.2-2) ...\n",
            "Processing triggers for man-db (2.8.3-2ubuntu0.1) ...\n"
          ],
          "name": "stdout"
        }
      ]
    },
    {
      "cell_type": "code",
      "metadata": {
        "id": "wTDI1UT_FT0q",
        "colab_type": "code",
        "colab": {
          "base_uri": "https://localhost:8080/",
          "height": 153
        },
        "outputId": "5c0c5dd9-80e5-4f19-e581-28519be8908a"
      },
      "source": [
        "!for i in ClarinPlDev/ ClarinPlTest/ ClarinPlTrain/ Sejm/;do pushd $i; sort 1best.txt > 1best-s.txt; sort reference.txt > ref-s.txt; wdiff 1best-s.txt ref-s.txt > diff.txt; cat diff.txt |perl -C7 -ane 'while(/\\pL \\[\\-(\\pL+)\\-\\] \\pL/g) {print \"$1\\n\";}'  > intrusive.txt; cat diff.txt |perl -C7 -ane 'while(/\\pL \\{\\+(\\pL+)\\+\\} \\pL/g) {print \"$1\\n\";}'  > misses.txt; cat diff.txt |perl -C7 -ane 'while(/\\[\\-(\\pL[\\pL\\- ]\\pL+)\\-\\] \\{\\+(\\pL[\\pL\\- ]\\pL+)\\+\\}/g) {print \"$1\\t$2\\n\";}' > pairs.tsv;popd;done"
      ],
      "execution_count": 3,
      "outputs": [
        {
          "output_type": "stream",
          "text": [
            "/content/ClarinPlDev /content\n",
            "/content\n",
            "/content/ClarinPlTest /content\n",
            "/content\n",
            "/content/ClarinPlTrain /content\n",
            "/content\n",
            "/content/Sejm /content\n",
            "/content\n"
          ],
          "name": "stdout"
        }
      ]
    },
    {
      "cell_type": "code",
      "metadata": {
        "id": "DLPaCwTCGrSc",
        "colab_type": "code",
        "colab": {}
      },
      "source": [
        "!for i in ClarinPlDev/ ClarinPlTest/ ClarinPlTrain/ Sejm/;do cat $i/intrusive.txt;done|sort|uniq -c|awk '($1>4){print $2}' > freq-intrusions.txt"
      ],
      "execution_count": 4,
      "outputs": []
    },
    {
      "cell_type": "code",
      "metadata": {
        "id": "zInCul0-nIPm",
        "colab_type": "code",
        "colab": {}
      },
      "source": [
        "!for i in ClarinPlDev/ ClarinPlTest/ ClarinPlTrain/ Sejm/;do cat $i/misses.txt;done|sort|uniq -c|awk '($1>4){print $2}' > freq-misses.txt"
      ],
      "execution_count": 5,
      "outputs": []
    },
    {
      "cell_type": "code",
      "metadata": {
        "id": "ueI5sSj4LIDC",
        "colab_type": "code",
        "colab": {}
      },
      "source": [
        "!for i in ClarinPlDev/ ClarinPlTest/ ClarinPlTrain/ Sejm/;do cat $i/pairs.tsv ;done | sort|uniq -c|sort -nr > pairs.tsv\n"
      ],
      "execution_count": 6,
      "outputs": []
    }
  ]
}