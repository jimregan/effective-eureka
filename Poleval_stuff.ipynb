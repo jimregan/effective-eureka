{
  "nbformat": 4,
  "nbformat_minor": 0,
  "metadata": {
    "colab": {
      "name": "Poleval stuff.ipynb",
      "provenance": [],
      "authorship_tag": "ABX9TyNWrmaVlffJB35+4wZzNP9y",
      "include_colab_link": true
    },
    "kernelspec": {
      "name": "python3",
      "display_name": "Python 3"
    }
  },
  "cells": [
    {
      "cell_type": "markdown",
      "metadata": {
        "id": "view-in-github",
        "colab_type": "text"
      },
      "source": [
        "<a href=\"https://colab.research.google.com/github/jimregan/effective-eureka/blob/mlm-cli/Poleval_stuff.ipynb\" target=\"_parent\"><img src=\"https://colab.research.google.com/assets/colab-badge.svg\" alt=\"Open In Colab\"/></a>"
      ]
    },
    {
      "cell_type": "code",
      "metadata": {
        "id": "2Zw2Q0nQdyWS",
        "colab_type": "code",
        "colab": {
          "base_uri": "https://localhost:8080/",
          "height": 1000
        },
        "outputId": "5ece06fb-ed8a-4306-fe87-4c0120473219"
      },
      "source": [
        "!apt install -q libtext-aspell-perl aspell-pl "
      ],
      "execution_count": 1,
      "outputs": [
        {
          "output_type": "stream",
          "text": [
            "Reading package lists...\n",
            "Building dependency tree...\n",
            "Reading state information...\n",
            "The following package was automatically installed and is no longer required:\n",
            "  libnvidia-common-440\n",
            "Use 'apt autoremove' to remove it.\n",
            "The following additional packages will be installed:\n",
            "  aspell dictionaries-common emacsen-common libaspell15 libtext-iconv-perl\n",
            "Suggested packages:\n",
            "  aspell-doc spellutils wordlist\n",
            "The following NEW packages will be installed:\n",
            "  aspell aspell-pl dictionaries-common emacsen-common libaspell15\n",
            "  libtext-aspell-perl libtext-iconv-perl\n",
            "0 upgraded, 7 newly installed, 0 to remove and 39 not upgraded.\n",
            "Need to get 1,373 kB of archives.\n",
            "After this operation, 4,623 kB of additional disk space will be used.\n",
            "Get:1 http://archive.ubuntu.com/ubuntu bionic/main amd64 libtext-iconv-perl amd64 1.7-5build6 [13.0 kB]\n",
            "Get:2 http://archive.ubuntu.com/ubuntu bionic-updates/main amd64 libaspell15 amd64 0.60.7~20110707-4ubuntu0.1 [309 kB]\n",
            "Get:3 http://archive.ubuntu.com/ubuntu bionic/main amd64 emacsen-common all 2.0.8 [17.6 kB]\n",
            "Get:4 http://archive.ubuntu.com/ubuntu bionic/main amd64 dictionaries-common all 1.27.2 [186 kB]\n",
            "Get:5 http://archive.ubuntu.com/ubuntu bionic-updates/main amd64 aspell amd64 0.60.7~20110707-4ubuntu0.1 [87.6 kB]\n",
            "Get:6 http://archive.ubuntu.com/ubuntu bionic/universe amd64 aspell-pl all 20150428-3 [735 kB]\n",
            "Get:7 http://archive.ubuntu.com/ubuntu bionic/universe amd64 libtext-aspell-perl amd64 0.09-1.1build3 [24.8 kB]\n",
            "Fetched 1,373 kB in 2s (675 kB/s)\n",
            "Preconfiguring packages ...\n",
            "Selecting previously unselected package libtext-iconv-perl.\n",
            "(Reading database ... 144579 files and directories currently installed.)\n",
            "Preparing to unpack .../0-libtext-iconv-perl_1.7-5build6_amd64.deb ...\n",
            "Unpacking libtext-iconv-perl (1.7-5build6) ...\n",
            "Selecting previously unselected package libaspell15:amd64.\n",
            "Preparing to unpack .../1-libaspell15_0.60.7~20110707-4ubuntu0.1_amd64.deb ...\n",
            "Unpacking libaspell15:amd64 (0.60.7~20110707-4ubuntu0.1) ...\n",
            "Selecting previously unselected package emacsen-common.\n",
            "Preparing to unpack .../2-emacsen-common_2.0.8_all.deb ...\n",
            "Unpacking emacsen-common (2.0.8) ...\n",
            "Selecting previously unselected package dictionaries-common.\n",
            "Preparing to unpack .../3-dictionaries-common_1.27.2_all.deb ...\n",
            "Adding 'diversion of /usr/share/dict/words to /usr/share/dict/words.pre-dictionaries-common by dictionaries-common'\n",
            "Unpacking dictionaries-common (1.27.2) ...\n",
            "Selecting previously unselected package aspell.\n",
            "Preparing to unpack .../4-aspell_0.60.7~20110707-4ubuntu0.1_amd64.deb ...\n",
            "Unpacking aspell (0.60.7~20110707-4ubuntu0.1) ...\n",
            "Selecting previously unselected package aspell-pl.\n",
            "Preparing to unpack .../5-aspell-pl_20150428-3_all.deb ...\n",
            "Unpacking aspell-pl (20150428-3) ...\n",
            "Selecting previously unselected package libtext-aspell-perl.\n",
            "Preparing to unpack .../6-libtext-aspell-perl_0.09-1.1build3_amd64.deb ...\n",
            "Unpacking libtext-aspell-perl (0.09-1.1build3) ...\n",
            "Setting up libaspell15:amd64 (0.60.7~20110707-4ubuntu0.1) ...\n",
            "Setting up emacsen-common (2.0.8) ...\n",
            "Setting up libtext-iconv-perl (1.7-5build6) ...\n",
            "Setting up libtext-aspell-perl (0.09-1.1build3) ...\n",
            "Setting up dictionaries-common (1.27.2) ...\n",
            "Setting up aspell (0.60.7~20110707-4ubuntu0.1) ...\n",
            "Setting up aspell-pl (20150428-3) ...\n",
            "Processing triggers for man-db (2.8.3-2ubuntu0.1) ...\n",
            "Processing triggers for libc-bin (2.27-3ubuntu1) ...\n",
            "/sbin/ldconfig.real: /usr/local/lib/python3.6/dist-packages/ideep4py/lib/libmkldnn.so.0 is not a symbolic link\n",
            "\n",
            "Processing triggers for dictionaries-common (1.27.2) ...\n",
            "aspell-autobuildhash: processing: pl [pl].\n"
          ],
          "name": "stdout"
        }
      ]
    },
    {
      "cell_type": "code",
      "metadata": {
        "id": "GQ4HCFjHfEm8",
        "colab_type": "code",
        "colab": {
          "base_uri": "https://localhost:8080/",
          "height": 136
        },
        "outputId": "976247ba-2bd4-4cb4-f545-e4bd48f3d1b7"
      },
      "source": [
        "!git clone https://github.com/jimregan/effective-eureka.git"
      ],
      "execution_count": 2,
      "outputs": [
        {
          "output_type": "stream",
          "text": [
            "Cloning into 'effective-eureka'...\n",
            "remote: Enumerating objects: 761, done.\u001b[K\n",
            "remote: Counting objects: 100% (761/761), done.\u001b[K\n",
            "remote: Compressing objects: 100% (406/406), done.\u001b[K\n",
            "remote: Total 761 (delta 375), reused 685 (delta 313), pack-reused 0\u001b[K\n",
            "Receiving objects: 100% (761/761), 1.20 MiB | 1.39 MiB/s, done.\n",
            "Resolving deltas: 100% (375/375), done.\n"
          ],
          "name": "stdout"
        }
      ]
    },
    {
      "cell_type": "code",
      "metadata": {
        "id": "tZkij263fIw_",
        "colab_type": "code",
        "colab": {
          "base_uri": "https://localhost:8080/",
          "height": 204
        },
        "outputId": "7ad2559b-8bdc-4dc0-a58c-f31835c2d17c"
      },
      "source": [
        "!wget http://poleval.pl/task1/Poleval2020Task1Eval.tar.xz"
      ],
      "execution_count": 3,
      "outputs": [
        {
          "output_type": "stream",
          "text": [
            "--2020-09-04 06:59:50--  http://poleval.pl/task1/Poleval2020Task1Eval.tar.xz\n",
            "Resolving poleval.pl (poleval.pl)... 213.135.36.94\n",
            "Connecting to poleval.pl (poleval.pl)|213.135.36.94|:80... connected.\n",
            "HTTP request sent, awaiting response... 200 OK\n",
            "Length: 12592244 (12M) [application/x-tar]\n",
            "Saving to: ‘Poleval2020Task1Eval.tar.xz’\n",
            "\n",
            "Poleval2020Task1Eva 100%[===================>]  12.01M  3.36MB/s    in 3.6s    \n",
            "\n",
            "2020-09-04 06:59:54 (3.36 MB/s) - ‘Poleval2020Task1Eval.tar.xz’ saved [12592244/12592244]\n",
            "\n"
          ],
          "name": "stdout"
        }
      ]
    },
    {
      "cell_type": "code",
      "metadata": {
        "id": "D2G3apkdfiM_",
        "colab_type": "code",
        "colab": {
          "base_uri": "https://localhost:8080/",
          "height": 85
        },
        "outputId": "fb75c857-8101-4de8-e181-f5f6d008005f"
      },
      "source": [
        "!tar xvf Poleval2020Task1Eval.tar.xz"
      ],
      "execution_count": 4,
      "outputs": [
        {
          "output_type": "stream",
          "text": [
            "Poleval2020Task1Eval/\n",
            "Poleval2020Task1Eval/1best.txt\n",
            "Poleval2020Task1Eval/lat.txt\n",
            "Poleval2020Task1Eval/nbest.txt\n"
          ],
          "name": "stdout"
        }
      ]
    },
    {
      "cell_type": "code",
      "metadata": {
        "id": "ixc2O36OxKR3",
        "colab_type": "code",
        "colab": {}
      },
      "source": [
        "import os\n",
        "os.chdir('/content')"
      ],
      "execution_count": 6,
      "outputs": []
    },
    {
      "cell_type": "code",
      "metadata": {
        "id": "FFBV37eLfn-7",
        "colab_type": "code",
        "colab": {}
      },
      "source": [
        "import os\n",
        "!mkdir lexical\n",
        "os.chdir('lexical')\n",
        "!cat /content/Poleval2020Task1Eval/nbest.txt | perl /content/effective-eureka/scripts/expand-lexical.pl\n",
        "os.chdir('..')"
      ],
      "execution_count": 7,
      "outputs": []
    },
    {
      "cell_type": "code",
      "metadata": {
        "id": "XWLoWIyn6pwU",
        "colab_type": "code",
        "colab": {}
      },
      "source": [
        "!wget http://zil.ipipan.waw.pl/NKJPNGrams?action=AttachFile&do=view&target=1grams.gz http://zil.ipipan.waw.pl/NKJPNGrams?action=AttachFile&do=view&target=2grams.gz http://zil.ipipan.waw.pl/NKJPNGrams?action=AttachFile&do=view&target=3grams.gz http://zil.ipipan.waw.pl/NKJPNGrams?action=AttachFile&do=view&target=5grams.gz"
      ],
      "execution_count": null,
      "outputs": []
    },
    {
      "cell_type": "code",
      "metadata": {
        "id": "5f3ylq3F64lX",
        "colab_type": "code",
        "colab": {
          "base_uri": "https://localhost:8080/",
          "height": 68
        },
        "outputId": "8d30686a-a131-4a3c-8ae2-67b8a28c932b"
      },
      "source": [
        "!curl 'http://zil.ipipan.waw.pl/NKJPNGrams?action=AttachFile&do=get&target=5grams.gz' \\\n",
        "  -H 'Connection: keep-alive' \\\n",
        "  -H 'Upgrade-Insecure-Requests: 1' \\\n",
        "  -H 'DNT: 1' \\\n",
        "  -H 'User-Agent: Mozilla/5.0 (Windows NT 10.0; Win64; x64) AppleWebKit/537.36 (KHTML, like Gecko) Chrome/85.0.4183.83 Safari/537.36' \\\n",
        "  -H 'Accept: text/html,application/xhtml+xml,application/xml;q=0.9,image/avif,image/webp,image/apng,*/*;q=0.8,application/signed-exchange;v=b3;q=0.9' \\\n",
        "  -H 'Referer: http://zil.ipipan.waw.pl/NKJPNGrams?action=AttachFile&do=view&target=5grams.gz' \\\n",
        "  -H 'Accept-Language: en-US,en;q=0.9,pl;q=0.8,ga;q=0.7' \\\n",
        "  -H 'Cookie: __utmc=194970101; _ga=GA1.3.1408513166.1597829521; __utmc=200660773; __utmz=200660773.1598951437.1.1.utmcsr=google|utmccn=(organic)|utmcmd=organic|utmctr=(not%20provided); __utma=194970101.1408513166.1597829521.1598038014.1599202639.6; __utmz=194970101.1599202639.6.5.utmcsr=google|utmccn=(organic)|utmcmd=organic|utmctr=(not%20provided); __utmb=194970101.1.10.1599202639; _gid=GA1.3.1970424516.1599202688; __utma=200660773.1408513166.1597829521.1598963313.1599202688.3; __utmb=200660773.3.9.1599202912100' \\\n",
        "  --compressed \\\n",
        "  --insecure > 5gram.gz"
      ],
      "execution_count": 12,
      "outputs": [
        {
          "output_type": "stream",
          "text": [
            "  % Total    % Received % Xferd  Average Speed   Time    Time     Time  Current\n",
            "                                 Dload  Upload   Total   Spent    Left  Speed\n",
            "100 2684M  100 2684M    0     0  9844k      0  0:04:39  0:04:39 --:--:-- 10.2M\n"
          ],
          "name": "stdout"
        }
      ]
    },
    {
      "cell_type": "code",
      "metadata": {
        "id": "N4T7oBb09qLI",
        "colab_type": "code",
        "colab": {}
      },
      "source": [
        "!zcat 5gram.gz|sed -e 's/^ *//'|cut -d ' ' -f2- > ngram-ish"
      ],
      "execution_count": 15,
      "outputs": []
    },
    {
      "cell_type": "code",
      "metadata": {
        "id": "P-Jw4yml96IS",
        "colab_type": "code",
        "colab": {
          "base_uri": "https://localhost:8080/",
          "height": 615
        },
        "outputId": "a24a9931-7277-4206-be92-c1135e245026"
      },
      "source": [
        "!apt install -qq libngram-tools\n",
        "!ngramsymbols ngram-ish ngram.sym\n",
        "!farcompilestrings --fst_type=compact --symbols=ngram.sym --keep_symbols ngram-ish ngram-ish.far\n",
        "!ngramcount --order=3 ngram-ish.far ngram-ish.cnt\n",
        "!ngrammake ngram-ish.cnt ngram-ish.mod"
      ],
      "execution_count": 17,
      "outputs": [
        {
          "output_type": "stream",
          "text": [
            "The following package was automatically installed and is no longer required:\n",
            "  libnvidia-common-440\n",
            "Use 'apt autoremove' to remove it.\n",
            "The following additional packages will be installed:\n",
            "  libfst-tools libfst8 libngram2\n",
            "The following NEW packages will be installed:\n",
            "  libfst-tools libfst8 libngram-tools libngram2\n",
            "0 upgraded, 4 newly installed, 0 to remove and 39 not upgraded.\n",
            "Need to get 5,007 kB of archives.\n",
            "After this operation, 34.2 MB of additional disk space will be used.\n",
            "Selecting previously unselected package libfst8.\n",
            "(Reading database ... 144832 files and directories currently installed.)\n",
            "Preparing to unpack .../libfst8_1.6.3-2_amd64.deb ...\n",
            "Unpacking libfst8 (1.6.3-2) ...\n",
            "Selecting previously unselected package libfst-tools.\n",
            "Preparing to unpack .../libfst-tools_1.6.3-2_amd64.deb ...\n",
            "Unpacking libfst-tools (1.6.3-2) ...\n",
            "Selecting previously unselected package libngram2.\n",
            "Preparing to unpack .../libngram2_1.3.2-3_amd64.deb ...\n",
            "Unpacking libngram2 (1.3.2-3) ...\n",
            "Selecting previously unselected package libngram-tools.\n",
            "Preparing to unpack .../libngram-tools_1.3.2-3_amd64.deb ...\n",
            "Unpacking libngram-tools (1.3.2-3) ...\n",
            "Setting up libfst8 (1.6.3-2) ...\n",
            "Setting up libfst-tools (1.6.3-2) ...\n",
            "Setting up libngram2 (1.3.2-3) ...\n",
            "Setting up libngram-tools (1.3.2-3) ...\n",
            "Processing triggers for man-db (2.8.3-2ubuntu0.1) ...\n",
            "Processing triggers for libc-bin (2.27-3ubuntu1) ...\n",
            "/sbin/ldconfig.real: /usr/local/lib/python3.6/dist-packages/ideep4py/lib/libmkldnn.so.0 is not a symbolic link\n",
            "\n",
            "FATAL: FarCompileStrings: Compiling string number 9181885 in file ngram-ish failed with token_type = symbol and entry_type = line\n",
            "ERROR: None of the input FSTs had a symbol table\n",
            "ERROR: ExpandedFst::Read: Can't open file: ngram-ish.cnt\n"
          ],
          "name": "stdout"
        }
      ]
    },
    {
      "cell_type": "code",
      "metadata": {
        "id": "EBTggeZhQMH9",
        "colab_type": "code",
        "colab": {
          "base_uri": "https://localhost:8080/",
          "height": 83
        },
        "outputId": "ea017959-a454-4551-95cc-a87984ebabf0"
      },
      "source": [
        "#!farcompilestrings --fst_type=compact --symbols=ngram.sym --keep_symbols ngram-ish ngram-ish.far\n",
        "!sed -i 9181885d ngram-ish\n",
        "#!ngramcount --order=3 ngram-ish.far ngram-ish.cnt\n",
        "#!ngrammake ngram-ish.cnt ngram-ish.mod"
      ],
      "execution_count": null,
      "outputs": [
        {
          "output_type": "stream",
          "text": [
            "21:53) [snapback]815745[/snapback] \"hehehehehhehehehehehehehhehehehehehehehhehehehehehehehhehehehehehehehheheheheheehehehehehehhehehehehehehehhehehehehehehehhehehehehehehehheheheheheehehehehehehhehehehehehehehhehehehehehehehhehehehehehehehheheheheheeehehehehehehhehehehehehehehhehehehehehehehhehehehehehehehheheheheheehehehehehehhehehehehehehehhehehehehehehehhehehehehehehehheheheheheehehehehehehhehehehehehehehhehehehehehehehhehehehehehehehheheheheheehehehehehehhehehehehehehehhehehehehehehehhehehehehehehehheheheheheehehehehehehhehehehehehehehhehehehehehehehhehehehehehehehheheheheheehehehehehehhehehehehehehehhehehehehehehehhehehehehehehehheheheheheehehehehehehhehehehehehehehhehehehehehehehhehehehehehehehheheheheheehehehehehehhehehehehehehehhehehehehehehehhehehehehehehehheheheheheehehehehehehhehehehehehehehhehehehehehehehhehehehehehehehhehehehehehehehehehehhehehehehehehehhehehehehehehehhehehehehehehehheheheheheehehehehehehhehehehehehehehhehehehehehehehhehehehehehehehheheheheheehehehehehehhehehehehehehehhehehehehehehehhehehehehehehehheheheheheehehehehehehhehehehehehehehhehehehehehehehhehehehehehehehheheheheheehehehehehehhehehehehehehehhehehehehehehehhehehehehehehehheheheheheehehehehehehhehehehehehehehhehehehehehehehhehehehehehehehheheheheheehehehehehehhehehehehehehehhehehehehehehehhehehehehehehehheheheheheehehehehehehhehehehehehehehhehehehehehehehhehehehehehehehheheheheheehehehehehehhehehehehehehehhehehehehehehehhehehehehehehehheheheheheehehehehehehhehehehehehehehhehehehehehehehhehehehehehehehheheheheheehehehehehehhehehehehehehehhehehehehehehehhehehehehehehehheheheheheehehehehehehhehehehehehehehhehehehehehehehhehehehehehehehheheheheheehehehehehehhehehehehehehehhehehehehehehehhehehehehehehehheheheheheehehehehehehhehehehehehehehhehehehehehehehhehehehehehehehheheheheheehehehehehehhehehehehehehehhehehehehehehehhehehehehehehehheheheheheehehehehehehhehehehehehehehhehehehehehehehhehehehehehehehheheheheheehehehehehehhehehehehehehehhehehehehehehehhehehehehehehehheheheheheehehehehehehhehehehehehehehhehehehehehehehhehehehehehehehheheheheheehehehehehehhehehehehehehehhehehehehehehehhehehehehehehehheheheheheehehehehehehhehehehehehehehhehehehehehehehhehehehehehehehheheheheheehehehehehehhehehehehehehehhehehehehehehehhehehehehehehehhehehehehehehehhehehehehehehehhehehehehehehehhehehehehehehehhehehehehehehehhehehehehehehehhehehehehehehehhehehehehehehehhehehehehehehehhehehehehehehehhehehehehehehehhehehehehehehehhehehehehehehehhehehehehehehehhehehehehehehehhehehehehehehehhehehehehehehehhehehehehehehehhehehehehehehehhehehehehehehehhehehehehehehehhehehehehehehehhehehehehehehehhehehehehehehehhehehehehehehehhehehehehehehehhehehehehehehehhehehehehehehehhehehehehehehehhehehehehehehehhehehehehehehehhehehehehehehehhehehehehehehehhehehehehehehehhehehehehehehehehehehehhehehehehehehehhehehehehehehehhehehehehehehehhehehehehehehehhehehehehehehehhehehehehehehehhehehehehehehehhehehehehehehehhehehehehehehehhehehehehehehehhehehehehehehehhehehehehehehehhehehehehehehehhehehehehehehehhehehehehehehehhehehehehehehehhehehehehehehehhehehehehehehehhehehehehehehehhehehehehehehehhehehehehehehehhehehehehehehehhehehehehehehehhehehehehehehehhehehehehehehehhehehehehehehehhehehehehehehehhehehehehehehehhehehehehehehehhehehehehehehehhehehehehehehehhehehehehehehehhehehehehehehehhehehehehehehehhehehehehehehehhehehehehehehehhehehehehehehehhehehehehehehehhehehehehehehehehehehehhehehehehehehehhehehehehehehehhehehehehehehehhehehehehehehehhehehehehehehehhehehehehehehehhehehehehehehehhehehehehehehehhehehehehehehehhehehehehehehehhehehehehehehehhehehehehehehehhehehehehehehehhehehehehehehehhehehehehehehehhehehehehehehehhehehehehehehehhehehehehehehehhehehehehehehehhehehehehehehehhehehehehehehehhehehehehehehehhehehehehehehehhehehehehehehehhehehehehehehehhehehehehehehehhehehehehehehehhehehehehehehehhehehehehehehehhehehehehehehehhehehehehehehehhehehehehehehehhehehehehehehehhehehehehehehehhehehehehehehehhehehehehehehehhehehehehehehehhehehehehehehehhehehehehehehehehehehehhehehehehehehehhehehehehehehehhehehehehehehehhehehehehehehehhehehehehehehehhehehehehehehehhehehehehehehehhehehehehehehehhehehehehehehehhehehehehehehehhehehehehehehehhehehehehehehehhehehehehehehehhehehehehehehehhehehehehehehehhehehehehehehehhehehehehehehehhehehehehehehehhehehehehehehehhehehehehehehehhehehehehehehehhehehehehehehehhehehehehehehehhehehehehehehehhehehehehehehehhehehehehehehehhehehehehehehehhehehehehehehehhehehehehehehehhehehehehehehehhehehehehehehehhehehehehehehehhehehehehehehehhehehehehehehehhehehehehehehehhehehehehehehehhehehehehehehehhehehehehehehehhehehehehehehehehehehehhehehehehehehehhehehehehehehehhehehehehehehehhehehehehehehehhehehehehehehehhehehehehehehehhehehehehehehehhehehehehehehehhehehehehehehehhehehehehehehehhehehehehehehehhehehehehehehehhehehehehehehehhehehehehehehehhehehehehehehehhehehehehehehehhehehehehehehehhehehehehehehehhehehehehehehehhehehehehehehehhehehehehehehehhehehehehehehehhehehehehehehehhehehehehehehehhehehehehehehehhehehehehehehehhehehehehehehehhehehehehehehehhehehehehehehehhehehehehehehehhehehehehehehehhehehehehehehehhehehehehehehehhehehehehehehehhehehehehehehehhehehehehehehehhehehehehehehehhehehehehehehehhehehehehehehehehehehehhehehehehehehehhehehehehehehehhehehehehehehehhehehehehehehehhehehehehehehehhehehehehehehehhehehehehehehehhehehehehehehehhehehehehehehehhehehehehehehehhehehehehehehehhehehehehehehehhehehehehehehehhehehehehehehehhehehehehehehehhehehehehehehehhehehehehehehehhehehehehehehehhehehehehehehehhehehehehehehehhehehehehehehehhehehehehehehehhehehehehehehehhehehehehehehehhehehehehehehehhehehehehehehehhehehehehehehehhehehehehehehehhehehehehehehehhehehehehehehehhehehehehehehehhehehehehehehehhehehehehehehehhehehehehehehehhehehehehehehehhehehehehehehehhehehehehehehehhehehehehehehehhehehehehehehehehehehehhehehehehehehehhehehehehehehehhehehehehehehehhehehehehehehehhehehehehehehehhehehehehehehehhehehehehehehehhehehehehehehehhehehehehehehehhehehehehehehehhehehehehehehehhehehehehehehehhehehehehehehehhehehehehehehehhehehehehehehehhehehehehehehehhehehehehehehehhehehehehehehehhehehehehehehehhehehehehehehehhehehehehehehehhehehehehehehehhehehehehehehehhehehehehehehehhehehehehehehehhehehehehehehehhehehehehehehehhehehehehehehehhehehehehehehehhehehehehehehehhehehehehehehehhehehehehehehehhehehehehehehehhehehehehehehehhehehehehehehehhehehehehehehehhehehehehehehehhehehehehehehehhehehehehehehehehehehehhehehehehehehehhehehehehehehehhehehehehehehehhehehehehehehehhehehehehehehehhehehehehehehehhehehehehehehehhehehehehehehehhehehehehehehehhehehehehehehehhehehehehehehehhehehehehehehehhehehehehehehehhehehehehehehehhehehehehehehehhehehehehehehehhehehehehehehehhehehehehehehehhehehehehehehehhehehehehehehehhehehehehehehehhehehehehehehehhehehehehehehehhehehehehehehehhehehehehehehehhehehehehehehehhehehehehehehehhehehehehehehehhehehehehehehehhehehehehehehehhehehehehehehehhehehehehehehehhehehehehehehehhehehehehehehehhehehehehehehehhehehehehehehehhehehehehehehehhehehehehehehehhehehehehehehehehehehehhehehehehehehehhehehehehehehehhehehehehehehehhehehehehehehehhehehehehehehehhehehehehehehehhehehehehehehehhehehehehehehehhehehehehehehehhehehehehehehehhehehehehehehehhehehehehehehehhehehehehehehehhehehehehehehehhehehehehehehehhehehehehehehehhehehehehehehehhehehehehehehehhehehehehehehehhehehehehehehehhehehehehehehehhehehehehehehehhehehehehehehehhehehehehehehehhehehehehehehehhehehehehehehehhehehehehehehehhehehehehehehehhehehehehehehehhehehehehehehehhehehehehehehehhehehehehehehehhehehehehehehehhehehehehehehehhehehehehehehehhehehehehehehehhehehehehehehehhehehehehehehehhehehehehehehehehehehehhehehehehehehehhehehehehehehehhehehehehehehehhehehehehehehehhehehehehehehehhehehehehehehehhehehehehehehehhehehehehehehehhehehehehehehehhehehehehehehehhehehehehehehehhehehehehehehehhehehehehehehehhehehehehehehehhehehehehehehehhehehehehehehehhehehehehehehehhehehehehehehehhehehehehehehehhehehehehehehehhehehehehehehehhehehehehehehehhehehehehehehehhehehehehehehehhehehehehehehehhehehehehehehehhehehehehehehehhehehehehehehehhehehehehehehehhehehehehehehehhehehehehehehehhehehehehehehehhehehehehehehehhehehehehehehehhehehehehehehehhehehehehehehehhehehehehehehehhehehehehehehehhehehehehehehehehehehehhehehehehehehehhehehehehehehehhehehehehehehehhehehehehehehehhehehehehehehehhehehehehehehehhehehehehehehehhehehehehehehehhehehehehehehehhehehehehehehehhehehehehehehehhehehehehehehehhehehehehehehehhehehehehehehehhehehehehehehehhehehehehehehehhehehehehehehehhehehehehehehehhehehehehehehehhehehehehehehehhehehehehehehehhehehehehehehehhehehehehehehehhehehehehehehehhehehehehehehehhehehehehehehehhehehehehehehehhehehehehehehehhehehehehehehehhehehehehehehehhehehehehehehehhehehehehehehehhehehehehehehehhehehehehehehehhehehehehehehehhehehehehehehehhehehehehehehehhehehehehehehehhehehehehehehehehehehehhehehehehehehehhehehehehehehehhehehehehehehehhehehehehehehehhehehehehehehehhehehehehehehehhehehehehehehehhehehehehehehehhehehehehehehehhehehehehehehehhehehehehehehehhehehehehehehehhehehehehehehehhehehehehehehehhehehehehehehehhehehehehehehehhehehehehehehehhehehehehehehehhehehehehehehehhehehehehehehehhehehehehehehehhehehehehehehehhehehehehehehehhehehehehehehehhehehehehehehehhehehehehehehehhehehehehehehehhehehehehehehehhehehehehehehehhehehehehehehehhehehehehehehehhehehehehehehehhehehehehehehehhehehehehehehehhehehehehehehehhehehehehehehehhehehehehehehehhehehehehehehehhehehehehehehehehehehehhehehehehehehehhehehehehehehehhehehehehehehehhehehehehehehehhehehehehehehehhehehehehehehehhehehehehehehehhehehehehehehehhehehehehehehehhehehehehehehehhehehehehehehehhehehehehehehehhehehehehehehehhehehehehehehehhehehehehehehehhehehehehehehehhehehehehehehehhehehehehehehehhehehehehehehehhehehehehehehehhehehehehehehehhehehehehehehehhehehehehehehehhehehehehehehehhehehehehehehehhehehehehehehehhehehehehehehehhehehehehehehehhehehehehehehehhehehehehehehehhehehehehehehehhehehehehehehehhehehehehehehehhehehehehehehehhehehehehehehehhehehehehehehehhehehehehehehehhehehehehehehehhehehehehehehehehehehehhehehehehehehehhehehehehehehehhehehehehehehehhehehehehehehehhehehehehehehehhehehehehehehehhehehehehehehehhehehehehehehehhehehehehehehehhehehehehehehehhehehehehehehehhehehehehehehehhehehehehehehehhehehehehehehehhehehehehehehehhehehehehehehehhehehehehehehehhehehehehehehehhehehehehehehehhehehehehehehehhehehehehehehehhehehehehehehehhehehehehehehehhehehehehehehehhehehehehehehehhehehehehehehehhehehehehehehehhehehehehehehehhehehehehehehehhehehehehehehehhehehehehehehehhehehehehehehehhehehehehehehehhehehehehehehehhehehehehehehehhehehehehehehehhehehehehehehehhehehehehehehehhehehehehehehehehehehehhehehehehehehehhehehehehehehehhehehehehehehehhehehehehehehehhehehehehehehehhehehehehehehehhehehehehehehehhehehehehehehehhehehehehehehehhehehehehehehehhehehehehehehehhehehehehehehehhehehehehehehehhehehehehehehehhehehehehehehehhehehehehehehehhehehehehehehehhehehehehehehehhehehehehehehehhehehehehehehehhehehehehehehehhehehehehehehehhehehehehehehehhehehehehehehehhehehehehehehehhehehehehehehehhehehehehehehehhehehehehehehehhehehehehehehehhehehehehehehehhehehehehehehehhehehehehehehehhehehehehehehehhehehehehehehehhehehehehehehehhehehehehehehehhehehehehehehehhehehehehehehehhehehehehehehehehehehehhehehehehehehehhehehehehehehehhehehehehehehehhehehehehehehehhehehehehehehehhehehehehehehehhehehehehehehehhehehehehehehehhehehehehehehehhehehehehehehehhehehehehehehehhehehehehehehehhehehehehehehehhehehehehehehehhehehehehehehehhehehehehehehehhehehehehehehehhehehehehehehehhehehehehehehehhehehehehehehehhehehehehehehehhehehehehehehehhehehehehehehehhehehehehehehehhehehehehehehehhehehehehehehehhehehehehehehehhehehehehehehehhehehehehehehehhehehehehehehehhehehehehehehehhehehehehehehehhehehehehehehehhehehehehehehehhehehehehehehehhehehehehehehehhehehehehehehehhehehehehehehehhehehehehehehehehehehehhehehehehehehehhehehehehehehehhehehehehehehehhehehehehehehehhehehehehehehehhehehehehehehehhehehehehehehehhehehehehehehehhehehehehehehehhehehehehehehehhehehehehehehehhehehehehehehehhehehehehehehehhehehehehehehehhehehehehehehehhehehehehehehehhehehehehehehehhehehehehehehehhehehehehehehehhehehehehehehehhehehehehehehehhehehehehehehehhehehehehehehehhehehehehehehehhehehehehehehehhehehehehehehehhehehehehehehehhehehehehehehehhehehehehehehehhehehehehehehehhehehehehehehehhehehehehehehehhehehehehehehehhehehehehehehehhehehehehehehehhehehehehehehehhehehehehehehehhehehehehehehehhehehehehehehehehehehehhehehehehehehehhehehehehehehehhehehehehehehehhehehehehehehehhehehehehehehehhehehehehehehehhehehehehehehehhehehehehehehehhehehehehehehehhehehehehehehehhehehehehehehehhehehehehehehehhehehehehehehehhehehehehehehehhehehehehehehehhehehehehehehehhehehehehehehehhehehehehehehehhehehehehehehehhehehehehehehehhehehehehehehehhehehehehehehehhehehehehehehehhehehehehehehehhehehehehehehehhehehehehehehehhehehehehehehehhehehehehehehehhehehehehehehehhehehehehehehehhehehehehehehehhehehehehehehehhehehehehehehehhehehehehehehehhehehehehehehehhehehehehehehehhehehehehehehehhehehehehehehehhehehehehehehehehehehehhehehehehehehehhehehehehehehehhehehehehehehehhehehehehehehehhehehehehehehehhehehehehehehehhehehehehehehehhehehehehehehehhehehehehehehehhehehehehehehehhehehehehehehehhehehehehehehehhehehehehehehehhehehehehehehehhehehehehehehehhehehehehehehehhehehehehehehehhehehehehehehehhehehehehehehehhehehehehehehehhehehehehehehehhehehehehehehehhehehehehehehehhehehehehehehehhehehehehehehehhehehehehehehehhehehehehehehehhehehehehehehehhehehehehehehehhehehehehehehehhehehehehehehehhehehehehehehehhehehehehehehehhehehehehehehehhehehehehehehehhehehehehehehehhehehehehehehehhehehehehehehehhehehehehehehehehehehehhehehehehehehehhehehehehehehehhehehehehehehehhehehehehehehehhehehehehehehehhehehehehehehehhehehehehehehehhehehehehehehehhehehehehehehehhehehehehehehehhehehehehehehehhehehehehehehehhehehehehehehehhehehehehehehehhehehehehehehehhehehehehehehehhehehehehehehehhehehehehehehehhehehehehehehehhehehehehehehehhehehehehehehehhehehehehehehehhehehehehehehehhehehehehehehehhehehehehehehehhehehehehehehehhehehehehehehehhehehehehehehehhehehehehehehehhehehehehehehehhehehehehehehehhehehehehehehehhehehehehehehehhehehehehehehehhehehehehehehehhehehehehehehehhehehehehehehehhehehehehehehehhehehehehehehehehehehehhehehehehehehehhehehehehehehehhehehehehehehehhehehehehehehehhehehehehehehehhehehehehehehehhehehehehehehehhehehehehehehehhehehehehehehehhehehehehehehehhehehehehehehehhehehehehehehehhehehehehehehehhehehehehehehehhehehehehehehehhehehehehehehehhehehehehehehehhehehehehehehehhehehehehehehehhehehehehehehehhehehehehehehehhehehehehehehehhehehehehehehehhehehehehehehehhehehehehehehehhehehehehehehehhehehehehehehehhehehehehehehehhehehehehehehehhehehehehehehehhehehehehehehehhehehehehehehehhehehehehehehehhehehehehehehehhehehehehehehehhehehehehehehehhehehehehehehehhehehehehehehehhehehehehehehehehehehehhehehehehehehehhehehehehehehehhehehehehehehehhehehehehehehehhehehehehehehehhehehehehehehehhehehehehehehehhehehehehehehehhehehehehehehehhehehehehehehehhehehehehehehehhehehehehehehehhehehehehehehehhehehehehehehehhehehehehehehehhehehehehehehehhehehehehehehehhehehehehehehehhehehehehehehehhehehehehehehehhehehehehehehehhehehehehehehehhehehehehehehehhehehehehehehehhehehehehehehehhehehehehehehehhehehehehehehehhehehehehehehehhehehehehehehehhehehehehehehehhehehehehehehehhehehehehehehehhehehehehehehehhehehehehehehehhehehehehehehehhehehehehehehehhehehehehehehehhehehehehehehehhehehehehehehehehehehehhehehehehehehehhehehehehehehehhehehehehehehehhehehehehehehehhehehehehehehehhehehehehehehehhehehehehehehehhehehehehehehehhehehehehehehehhehehehehehehehhehehehehehehehhehehehehehehehhehehehehehehehhehehehehehehehhehehehehehehehhehehehehehehehhehehehehehehehhehehehehehehehhehehehehehehehhehehehehehehehhehehehehehehehhehehehehehehehhehehehehehehehhehehehehehehehhehehehehehehehhehehehehehehehhehehehehehehehhehehehehehehehhehehehehehehehhehehehehehehehhehehehehehehehhehehehehehehehhehehehehehehehhehehehehehehehhehehehehehehehhehehehehehehehhehehehehehehehhehehehehehehehhehehehehehehehehehehehhehehehehehehehhehehehehehehehhehehehehehehehhehehehehehehehhehehehehehehehhehehehehehehehhehehehehehehehhehehehehehehehhehehehehehehehhehehehehehehehhehehehehehehehhehehehehehehehhehehehehehehehhehehehehehehehhehehehehehehehhehehehehehehehhehehehehehehehhehehehehehehehhehehehehehehehhehehehehehehehhehehehehehehehhehehehehehehehhehehehehehehehhehehehehehehehhehehehehehehehhehehehehehehehhehehehehehehehhehehehehehehehhehehehehehehehhehehehehehehehhehehehehehehehhehehehehehehehhehehehehehehehhehehehehehehehhehehehehehehehhehehehehehehehhehehehehehehehhehehehehehehehhehehehehehehehehehehehhehehehehehehehhehehehehehehehhehehehehehehehhehehehehehehehhehehehehehehehhehehehehehehehhehehehehehehehhehehehehehehehhehehehehehehehhehehehehehehehhehehehehehehehhehehehehehehehhehehehehehehehhehehehehehehehhehehehehehehehhehehehehehehehhehehehehehehehhehehehehehehehhehehehehehehehhehehehehehehehhehehehehehehehhehehehehehehehhehehehehehehehhehehehehehehehhehehehehehehehhehehehehehehehhehehehehehehehhehehehehehehehhehehehehehehehhehehehehehehehhehehehehehehehhehehehehehehehhehehehehehehehhehehehehehehehhehehehehehehehhehehehehehehehhehehehehehehehhehehehehehehehhehehehehehehehehehehehhehehehehehehehhehehehehehehehhehehehehehehehhehehehehehehehhehehehehehehehhehehehehehehehhehehehehehehehhehehehehehehehhehehehehehehehhehehehehehehehhehehehehehehehhehehehehehehehhehehehehehehehhehehehehehehehhehehehehehehehhehehehehehehehhehehehehehehehhehehehehehehehhehehehehehehehhehehehehehehehhehehehehehehehhehehehehehehehhehehehehehehehhehehehehehehehhehehehehehehehhehehehehehehehhehehehehehehehhehehehehehehehhehehehehehehehhehehehehehehehhehehehehehehehhehehehehehehehhehehehehehehehhehehehehehehehhehehehehehehehhehehehehehehehhehehehehehehehhehehehehehehehhehehehehehehehehehehehhehehehehehehehhehehehehehehehhehehehehehehehhehehehehehehehhehehehehehehehhehehehehehehehhehehehehehehehhehehehehehehehhehehehehehehehhehehehehehehehhehehehehehehehhehehehehehehehhehehehehehehehhehehehehehehehhehehehehehehehhehehehehehehehhehehehehehehehhehehehehehehehhehehehehehehehhehehehehehehehhehehehehehehehhehehehehehehehhehehehehehehehhehehehehehehehhehehehehehehehhehehehehehehehhehehehehehehehhehehehehehehehhehehehehehehehhehehehehehehehhehehehehehehehhehehehehehehehhehehehehehehehhehehehehehehehhehehehehehehehhehehehehehehehhehehehehehehehhehehehehehehehhehehehehehehehehehehehhehehehehehehehhehehehehehehehhehehehehehehehhehehehehehehehhehehehehehehehhehehehehehehehhehehehehehehehhehehehehehehehhehehehehehehehhehehehehehehehhehehehehehehehhehehehehehehehhehehehehehehehhehehehehehehehhehehehehehehehhehehehehehehehhehehehehehehehhehehehehehehehhehehehehehehehhehehehehehehehhehehehehehehehhehehehehehehehhehehehehehehehhehehehehehehehhehehehehehehehhehehehehehehehhehehehehehehehhehehehehehehehhehehehehehehehhehehehehehehehhehehehehehehehhehehehehehehehhehehehehehehehhehehehehehehehhehehehehehehehhehehehehehehehhehehehehehehehhehehehehehehehhehehehehehehehehehehehhehehehehehehehhehehehehehehehhehehehehehehehhehehehehehehehhehehehehehehehhehehehehehehehhehehehehehehehhehehehehehehehhehehehehehehehhehehehehehehehhehehehehehehehhehehehehehehehhehehehehehehehhehehehehehehehhehehehehehehehhehehehehehehehhehehehehehehehhehehehehehehehhehehehehehehehhehehehehehehehhehehehehehehehhehehehehehehehhehehehehehehehhehehehehehehehhehehehehehehehhehehehehehehehhehehehehehehehhehehehehehehehhehehehehehehehhehehehehehehehhehehehehehehehhehehehehehehehhehehehehehehehhehehehehehehehhehehehehehehehhehehehehehehehhehehehehehehehhehehehehehehehhehehehehehehehehehehehhehehehehehehehhehehehehehehehhehehehehehehehhehehehehehehehhehehehehehehehhehehehehehehehhehehehehehehehhehehehehehehehhehehehehehehehhehehehehehehehhehehehehehehehhehehehehehehehhehehehehehehehhehehehehehehehhehehehehehehehhehehehehehehehhehehehehehehehhehehehehehehehhehehehehehehehhehehehehehehehhehehehehehehehhehehehehehehehhehehehehehehehhehehehehehehehhehehehehehehehhehehehehehehehhehehehehehehehhehehehehehehehhehehehehehehehhehehehehehehehhehehehehehehehhehehehehehehehhehehehehehehehhehehehehehehehhehehehehehehehhehehehehehehehhehehehehehehehhehehehehehehehhehehehehehehehehehehehhehehehehehehehhehehehehehehehhehehehehehehehhehehehehehehehhehehehehehehehhehehehehehehehhehehehehehehehhehehehehehehehhehehehehehehehhehehehehehehehhehehehehehehehhehehehehehehehhehehehehehehehhehehehehehehehhehehehehehehehhehehehehehehehhehehehehehehehhehehehehehehehhehehehehehehehhehehehehehehehhehehehehehehehhehehehehehehehhehehehehehehehhehehehehehehehhehehehehehehehhehehehehehehehhehehehehehehehhehehehehehehehhehehehehehehehhehehehehehehehhehehehehehehehhehehehehehehehhehehehehehehehhehehehehehehehhehehehehehehehhehehehehehehehhehehehehehehehhehehehehehehehhehehehehehehehehehehehhehehehehehehehhehehehehehehehhehehehehehehehhehehehehehehehhehehehehehehehhehehehehehehehhehehehehehehehhehehehehehehehhehehehehehehehhehehehehehehehhehehehehehehehhehehehehehehehhehehehehehehehhehehehehehehehhehehehehehehehhehehehehehehehhehehehehehehehhehehehehehehehhehehehehehehehhehehehehehehehhehehehehehehehhehehehehehehehhehehehehehehehhehehehehehehehhehehehehehehehhehehehehehehehhehehehehehehehhehehehehehehehhehehehehehehehhehehehehehehehhehehehehehehehhehehehehehehehhehehehehehehehhehehehehehehehhehehehehehehehhehehehehehehehhehehehehehehehhehehehehehehehhehehehehehehehehehehehhehehehehehehehhehehehehehehehhehehehehehehehhehehehehehehehhehehehehehehehhehehehehehehehhehehehehehehehhehehehehehehehhehehehehehehehhehehehehehehehhehehehehehehehhehehehehehehehhehehehehehehehhehehehehehehehhehehehehehehehhehehehehehehehhehehehehehehehhehehehehehehehhehehehehehehehhehehehehehehehhehehehehehehehhehehehehehehehhehehehehehehehhehehehehehehehhehehehehehehehhehehehehehehehhehehehehehehehhehehehehehehehhehehehehehehehhehehehehehehehhehehehehehehehhehehehehehehehhehehehehehehehhehehehehehehehhehehehehehehehhehehehehehehehhehehehehehehehhehehehehehehehhehehehehehehehehehehehhehehehehehehehhehehehehehehehhehehehehehehehhehehehehehehehhehehehehehehehhehehehehehehehhehehehehehehehhehehehehehehehhehehehehehehehhehehehehehehehhehehehehehehehhehehehehehehehhehehehehehehehhehehehehehehehhehehehehehehehhehehehehehehehhehehehehehehehhehehehehehehehhehehehehehehehhehehehehehehehhehehehehehehehhehehehehehehehhehehehehehehehhehehehehehehehhehehehehehehehhehehehehehehehhehehehehehehehhehehehehehehehhehehehehehehehhehehehehehehehhehehehehehehehhehehehehehehehhehehehehehehehhehehehehehehehhehehehehehehehhehehehehehehehhehehehehehehehhehehehehehehehhehehehehehehehehehehehhehehehehehehehhehehehehehehehhehehehehehehehhehehehehehehehhehehehehehehehhehehehehehehehhehehehehehehehhehehehehehehehhehehehehehehehhehehehehehehehhehehehehehehehhehehehehehehehhehehehehehehehhehehehehehehehhehehehehehehehhehehehehehehehhehehehehehehehhehehehehehehehhehehehehehehehhehehehehehehehhehehehehehehehhehehehehehehehhehehehehehehehhehehehehehehehhehehehehehehehhehehehehehehehhehehehehehehehhehehehehehehehhehehehehehehehhehehehehehehehhehehehehehehehhehehehehehehehhehehehehehehehhehehehehehehehhehehehehehehehhehehehehehehehhehehehehehehehhehehehehehehehhehehehehehehehehehehehhehehehehehehehhehehehehehehehhehehehehehehehhehehehehehehehhehehehehehehehhehehehehehehehhehehehehehehehhehehehehehehehhehehehehehehehhehehehehehehehhehehehehehehehhehehehehehehehhehehehehehehehhehehehehehehehhehehehehehehehhehehehehehehehhehehehehehehehhehehehehehehehhehehehehehehehhehehehehehehehhehehehehehehehhehehehehehehehhehehehehehehehhehehehehehehehhehehehehehehehhehehehehehehehhehehehehehehehhehehehehehehehhehehehehehehehhehehehehehehehhehehehehehehehhehehehehehehehhehehehehehehehhehehehehehehehhehehehehehehehhehehehehehehehhehehehehehehehhehehehehehehehhehehehehehehehehehehehhehehehehehehehhehehehehehehehhehehehehehehehhehehehehehehehhehehehehehehehhehehehehehehehhehehehehehehehhehehehehehehehhehehehehehehehhehehehehehehehhehehehehehehehhehehehehehehehhehehehehehehehhehehehehehehehhehehehehehehehhehehehehehehehhehehehehehehehhehehehehehehehhehehehehehehehhehehehehehehehhehehehehehehehhehehehehehehehhehehehehehehehhehehehehehehehhehehehehehehehhehehehehehehehhehehehehehehehhehehehehehehehhehehehehehehehhehehehehehehehhehehehehehehehhehehehehehehehhehehehehehehehhehehehehehehehhehehehehehehehhehehehehehehehhehehehehehehehhehehehehehehehhehehehehehehehehehehehhehehehehehehehhehehehehehehehhehehehehehehehhehehehehehehehhehehehehehehehhehehehehehehehhehehehehehehehhehehehehehehehhehehehehehehehhehehehehehehehhehehehehehehehhehehehehehehehhehehehehehehehhehehehehehehehhehehehehehehehhehehehehehehehhehehehehehehehhehehehehehehehhehehehehehehehhehehehehehehehhehehehehehehehhehehehehehehehhehehehehehehehhehehehehehehehhehehehehehehehhehehehehehehehhehehehehehehehhehehehehehehehhehehehehehehehhehehehehehehehhehehehehehehehhehehehehehehehhehehehehehehehhehehehehehehehhehehehehehehehhehehehehehehehhehehehehehehehhehehehehehehehhehehehehehehehehehehehhehehehehehehehhehehehehehehehhehehehehehehehhehehehehehehehhehehehehehehehhehehehehehehehhehehehehehehehhehehehehehehehhehehehehehehehhehehehehehehehhehehehehehehehhehehehehehehehhehehehehehehehhehehehehehehehhehehehehehehehhehehehehehehehhehehehehehehehhehehehehehehehhehehehehehehehhehehehehehehehhehehehehehehehhehehehehehehehhehehehehehehehhehehehehehehehhehehehehehehehhehehehehehehehhehehehehehehehhehehehehehehehhehehehehehehehhehehehehehehehhehehehehehehehhehehehehehehehhehehehehehehehhehehehehehehehhehehehehehehehhehehehehehehehhehehehehehehehhehehehehehehehhehehehehehehehehehehehhehehehehehehehhehehehehehehehhehehehehehehehhehehehehehehehhehehehehehehehhehehehehehehehhehehehehehehehhehehehehehehehhehehehehehehehhehehehehehehehhehehehehehehehhehehehehehehehhehehehehehehehhehehehehehehehhehehehehehehehhehehehehehehehhehehehehehehehhehehehehehehehhehehehehehehehhehehehehehehehhehehehehehehehhehehehehehehehhehehehehehehehhehehehehehehehhehehehehehehehhehehehehehehehhehehehehehehehhehehehehehehehhehehehehehehehhehehehehehehehhehehehehehehehhehehehehehehehhehehehehehehehhehehehehehehehhehehehehehehehhehehehehehehehhehehehehehehehhehehehehehehehhehehehehehehehehehehehhehehehehehehehhehehehehehehehhehehehehehehehhehehehehehehehhehehehehehehehhehehehehehehehhehehehehehehehhehehehehehehehhehehehehehehehhehehehehehehehhehehehehehehehhehehehehehehehhehehehehehehehhehehehehehehehhehehehehehehehhehehehehehehehhehehehehehehehhehehehehehehehhehehehehehehehhehehehehehehehhehehehehehehehhehehehehehehehhehehehehehehehhehehehehehehehhehehehehehehehhehehehehehehehhehehehehehehehhehehehehehehehhehehehehehehehhehehehehehehehhehehehehehehehhehehehehehehehhehehehehehehehhehehehehehehehhehehehehehehehhehehehehehehehhehehehehehehehhehehehehehehehhehehehehehehehehehehehhehehehehehehehhehehehehehehehhehehehehehehehhehehehehehehehhehehehehehehehhehehehehehehehhehehehehehehehhehehehehehehehhehehehehehehehhehehehehehehehhehehehehehehehhehehehehehehehhehehehehehehehhehehehehehehehhehehehehehehehhehehehehehehehhehehehehehehehhehehehehehehehhehehehehehehehhehehehehehehehhehehehehehehehhehehehehehehehhehehehehehehehhehehehehehehehhehehehehehehehhehehehehehehehhehehehehehehehhehehehehehehehhehehehehehehehhehehehehehehehhehehehehehehehhehehehehehehehhehehehehehehehhehehehehehehehhehehehehehehehhehehehehehehehhehehehehehehehhehehehehehehehhehehehehehehehehehehehhehehehehehehehhehehehehehehehhehehehehehehehhehehehehehehehhehehehehehehehhehehehehehehehhehehehehehehehhehehehehehehehhehehehehehehehhehehehehehehehhehehehehehehehhehehehehehehehhehehehehehehehhehehehehehehehhehehehehehehehhehehehehehehehhehehehehehehehhehehehehehehehhehehehehehehehhehehehehehehehhehehehehehehehhehehehehehehehhehehehehehehehhehehehehehehehhehehehehehehehhehehehehehehehhehehehehehehehhehehehehehehehhehehehehehehehhehehehehehehehhehehehehehehehhehehehehehehehhehehehehehehehhehehehehehehehhehehehehehehehhehehehehehehehhehehehehehehehhehehehehehehehhehehehehehehehehehehehhehehehehehehehhehehehehehehehhehehehehehehehhehehehehehehehhehehehehehehehhehehehehehehehhehehehehehehehhehehehehehehehhehehehehehehehhehehehehehehehhehehehehehehehhehehehehehehehhehehehehehehehhehehehehehehehhehehehehehehehhehehehehehehehhehehehehehehehhehehehehehehehhehehehehehehehhehehehehehehehhehehehehehehehhehehehehehehehhehehehehehehehhehehehehehehehhehehehehehehehhehehehehehehehhehehehehehehehhehehehehehehehhehehehehehehehhehehehehehehehhehehehehehehehhehehehehehehehhehehehehehehehhehehehehehehehhehehehehehehehhehehehehehehehhehehehehehehehhehehehehehehehhehehehehehehehehehehehhehehehehehehehhehehehehehehehhehehehehehehehhehehehehehehehhehehehehehehehhehehehehehehehhehehehehehehehhehehehehehehehhehehehehehehehhehehehehehehehhehehehehehehehhehehehehehehehhehehehehehehehhehehehehehehehhehehehehehehehhehehehehehehehhehehehehehehehhehehehehehehehhehehehehehehehhehehehehehehehhehehehehehehehhehehehehehehehhehehehehehehehhehehehehehehehhehehehehehehehhehehehehehehehhehehehehehehehhehehehehehehehhehehehehehehehhehehehehehehehhehehehehehehehhehehehehehehehhehehehehehehehhehehehehehehehhehehehehehehehhehehehehehehehhehehehehehehehhehehehehehehehhehehehehehehehehehehehhehehehehehehehhehehehehehehehhehehehehehehehhehehehehehehehhehehehehehehehhehehehehehehehhehehehehehehehhehehehehehehehhehehehehehehehhehehehehehehehhehehehehehehehhehehehehehehehhehehehehehehehhehehehehehehehhehehehehehehehhehehehehehehehhehehehehehehehhehehehehehehehhehehehehehehehhehehehehehehehhehehehehehehehhehehehehehehehhehehehehehehehhehehehehehehehhehehehehehehehhehehehehehehehhehehehehehehehhehehehehehehehhehehehehehehehhehehehehehehehhehehehehehehehhehehehehehehehhehehehehehehehhehehehehehehehhehehehehehehehhehehehehehehehhehehehehehehehhehehehehehehehhehehehehehehehehehehehhehehehehehehehhehehehehehehehhehehehehehehehhehehehehehehehhehehehehehehehhehehehehehehehhehehehehehehehhehehehehehehehhehehehehehehehhehehehehehehehhehehehehehehehhehehehehehehehhehehehehehehehhehehehehehehehhehehehehehehehhehehehehehehehhehehehehehehehhehehehehehehehhehehehehehehehhehehehehehehehhehehehehehehehhehehehehehehehhehehehehehehehhehehehehehehehhehehehehehehehhehehehehehehehhehehehehehehehhehehehehehehehhehehehehehehehhehehehehehehehhehehehehehehehhehehehehehehehhehehehehehehehhehehehehehehehhehehehehehehehhehehehehehehehhehehehehehehehhehehehehehehehhehehehehehehehehehehehhehehehehehehehhehehehehehehehhehehehehehehehhehehehehehehehhehehehehehehehhehehehehehehehhehehehehehehehhehehehehehehehhehehehehehehehhehehehehehehehhehehehehehehehhehehehehehehehhehehehehehehehhehehehehehehehhehehehehehehehhehehehehehehehhehehehehehehehhehehehehehehehhehehehehehehehhehehehehehehehhehehehehehehehhehehehehehehehhehehehehehehehhehehehehehehehhehehehehehehehhehehehehehehehhehehehehehehehhehehehehehehehhehehehehehehehhehehehehehehehhehehehehehehehhehehehehehehehhehehehehehehehhehehehehehehehhehehehehehehehhehehehehehehehhehehehehehehehhehehehehehehehhehehehehehehehehehehehhehehehehehehehhehehehehehehehhehehehehehehehhehehehehehehehhehehehehehehehhehehehehehehehhehehehehehehehhehehehehehehehhehehehehehehehhehehehehehehehhehehehehehehehhehehehehehehehhehehehehehehehhehehehehehehehhehehehehehehehhehehehehehehehhehehehehehehehhehehehehehehehhehehehehehehehhehehehehehehehhehehehehehehehhehehehehehehehhehehehehehehehhehehehehehehehhehehehehehehehhehehehehehehehhehehehehehehehhehehehehehehehhehehehehehehehhehehehehehehehhehehehehehehehhehehehehehehehhehehehehehehehhehehehehehehehhehehehehehehehhehehehehehehehhehehehehehehehhehehehehehehehhehehehehehehehehehehehhehehehehehehehhehehehehehehehhehehehehehehehhehehehehehehehhehehehehehehehhehehehehehehehhehehehehehehehhehehehehehehehhehehehehehehehhehehehehehehehhehehehehehehehhehehehehehehehhehehehehehehehhehehehehehehehhehehehehehehehhehehehehehehehhehehehehehehehhehehehehehehehhehehehehehehehhehehehehehehehhehehehehehehehhehehehehehehehhehehehehehehehhehehehehehehehhehehehehehehehhehehehehehehehhehehehehehehehhehehehehehehehhehehehehehehehhehehehehehehehhehehehehehehehhehehehehehehehhehehehehehehehhehehehehehehehhehehehehehehehhehehehehehehehhehehehehehehehhehehehehehehehhehehehehehehehehehehehhehehehehehehehhehehehehehehehhehehehehehehehhehehehehehehehhehehehehehehehhehehehehehehehhehehehehehehehhehehehehehehehhehehehehehehehhehehehehehehehhehehehehehehehhehehehehehehehhehehehehehehehhehehehehehehehhehehehehehehehhehehehehehehehhehehehehehehehhehehehehehehehhehehehehehehehhehehehehehehehhehehehehehehehhehehehehehehehhehehehehehehehhehehehehehehehhehehehehehehehhehehehehehehehhehehehehehehehhehehehehehehehhehehehehehehehhehehehehehehehhehehehehehehehhehehehehehehehhehehehehehehehhehehehehehehehhehehehehehehehhehehehehehehehhehehehehehehehhehehehehehehehhehehehehehehehehehehehhehehehehehehehhehehehehehehehhehehehehehehehhehehehehehehehhehehehehehehehhehehehehehehehhehehehehehehehhehehehehehehehhehehehehehehehhehehehehehehehhehehehehehehehhehehehehehehehhehehehehehehehhehehehehehehehhehehehehehehehhehehehehehehehhehehehehehehehhehehehehehehehhehehehehehehehhehehehehehehehhehehehehehehehhehehehehehehehhehehehehehehehhehehehehehehehhehehehehehehehhehehehehehehehhehehehehehehehhehehehehehehehhehehehehehehehhehehehehehehehhehehehehehehehhehehehehehehehhehehehehehehehhehehehehehehehhehehehehehehehhehehehehehehehhehehehehehehehhehehehehehehehhehehehehehehehehehehehhehehehehehehehhehehehehehehehhehehehehehehehhehehehehehehehhehehehehehehehhehehehehehehehhehehehehehehehhehehehehehehehhehehehehehehehhehehehehehehehhehehehehehehehhehehehehehehehhehehehehehehehhehehehehehehehhehehehehehehehhehehehehehehehhehehehehehehehhehehehehehehehhehehehehehehehhehehehehehehehhehehehehehehehhehehehehehehehhehehehehehehehhehehehehehehehhehehehehehehehhehehehehehehehhehehehehehehehhehehehehehehehhehehehehehehehhehehehehehehehhehehehehehehehhehehehehehehehhehehehehehehehhehehehehehehehhehehehehehehehhehehehehehehehhehehehehehehehhehehehehehehehhehehehehehehehehehehehhehehehehehehehhehehehehehehehhehehehehehehehhehehehehehehehhehehehehehehehhehehehehehehehhehehehehehehehhehehehehehehehhehehehehehehehhehehehehehehehhehehehehehehehhehehehehehehehhehehehehehehehhehehehehehehehhehehehehehehehhehehehehehehehhehehehehehehehhehehehehehehehhehehehehehehehhehehehehehehehhehehehehehehehhehehehehehehehhehehehehehehehhehehehehehehehhehehehehehehehhehehehehehehehhehehehehehehehhehehehehehehehhehehehehehehehhehehehehehehehhehehehehehehehhehehehehehehehhehehehehehehehhehehehehehehehhehehehehehehehhehehehehehehehhehehehehehehehhehehehehehehehhehehehehehehehehehehehhehehehehehehehhehehehehehehehhehehehehehehehhehehehehehehehhehehehehehehehhehehehehehehehhehehehehehehehhehehehehehehehhehehehehehehehhehehehehehehehhehehehehehehehhehehehehehehehhehehehehehehehhehehehehehehehhehehehehehehehhehehehehehehehhehehehehehehehhehehehehehehehhehehehehehehehhehehehehehehehhehehehehehehehhehehehehehehehhehehehehehehehhehehehehehehehhehehehehehehehhehehehehehehehhehehehehehehehhehehehehehehehhehehehehehehehhehehehehehehehhehehehehehehehhehehehehehehehhehehehehehehehhehehehehehehehhehehehehehehehhehehehehehehehhehehehehehehehhehehehehehehehhehehehehehehehehehehehhehehehehehehehhehehehehehehehhehehehehehehehhehehehehehehehhehehehehehehehhehehehehehehehhehehehehehehehhehehehehehehehhehehehehehehehhehehehehehehehhehehehehehehehhehehehehehehehhehehehehehehehhehehehehehehehhehehehehehehehhehehehehehehehhehehehehehehehhehehehehehehehhehehehehehehehhehehehehehehehhehehehehehehehhehehehehehehehhehehehehehehehhehehehehehehehhehehehehehehehhehehehehehehehhehehehehehehehhehehehehehehehhehehehehehehehhehehehehehehehhehehehehehehehhehehehehehehehhehehehehehehehhehehehehehehehhehehehehehehehhehehehehehehehhehehehehehehehhehehehehehehehhehehehehehehehehehehehhehehehehehehehhehehehehehehehhehehehehehehehhehehehehehehehhehehehehehehehhehehehehehehehhehehehehehehehhehehehehehehehhehehehehehehehhehehehehehehehhehehehehehehehhehehehehehehehhehehehehehehehhehehehehehehehhehehehehehehehhehehehehehehehhehehehehehehehhehehehehehehehhehehehehehehehhehehehehehehehhehehehehehehehhehehehehehehehhehehehehehehehhehehehehehehehhehehehehehehehhehehehehehehehhehehehehehehehhehehehehehehehhehehehehehehehhehehehehehehehhehehehehehehehhehehehehehehehhehehehehehehehhehehehehehehehhehehehehehehehhehehehehehehehhehehehehehehehhehehehehehehehhehehehehehehehehehehehhehehehehehehehhehehehehehehehhehehehehehehehhehehehehehehehhehehehehehehehhehehehehehehehhehehehehehehehhehehehehehehehhehehehehehehehhehehehehehehehhehehehehehehehhehehehehehehehhehehehehehehehhehehehehehehehhehehehehehehehhehehehehehehehhehehehehehehehhehehehehehehehhehehehehehehehhehehehehehehehhehehehehehehehhehehehehehehehhehehehehehehehhehehehehehehehhehehehehehehehhehehehehehehehhehehehehehehehhehehehehehehehhehehehehehehehhehehehehehehehhehehehehehehehhehehehehehehehhehehehehehehehhehehehehehehehhehehehehehehehhehehehehehehehhehehehehehehehhehehehehehehehhehehehehehehehehehehehhehehehehehehehhehehehehehehehhehehehehehehehhehehehehehehehhehehehehehehehhehehehehehehehhehehehehehehehhehehehehehehehhehehehehehehehhehehehehehehehhehehehehehehehhehehehehehehehhehehehehehehehhehehehehehehehhehehehehehehehhehehehehehehehhehehehehehehehhehehehehehehehhehehehehehehehhehehehehehehehhehehehehehehehhehehehehehehehhehehehehehehehhehehehehehehehhehehehehehehehhehehehehehehehhehehehehehehehhehehehehehehehhehehehehehehehhehehehehehehehhehehehehehehehhehehehehehehehhehehehehehehehhehehehehehehehhehehehehehehehhehehehehehehehhehehehehehehehhehehehehehehehhehehehehehehehehehehehhehehehehehehehhehehehehehehehhehehehehehehehhehehehehehehehhehehehehehehehhehehehehehehehhehehehehehehehhehehehehehehehhehehehehehehehhehehehehehehehhehehehehehehehhehehehehehehehhehehehehehehehhehehehehehehehhehehehehehehehhehehehehehehehhehehehehehehehhehehehehehehehhehehehehehehehhehehehehehehehhehehehehehehehhehehehehehehehhehehehehehehehhehehehehehehehhehehehehehehehhehehehehehehehhehehehehehehehhehehehehehehehhehehehehehehehhehehehehehehehhehehehehehehehhehehehehehehehhehehehehehehehhehehehehehehehhehehehehehehehhehehehehehehehhehehehehehehehhehehehehehehehhehehehehehehehehehehehhehehehehehehehhehehehehehehehhehehehehehehehhehehehehehehehhehehehehehehehhehehehehehehehhehehehehehehehhehehehehehehehhehehehehehehehhehehehehehehehhehehehehehehehhehehehehehehehhehehehehehehehhehehehehehehehhehehehehehehehhehehehehehehehhehehehehehehehhehehehehehehehhehehehehehehehhehehehehehehehhehehehehehehehhehehehehehehehhehehehehehehehhehehehehehehehhehehehehehehehhehehehehehehehhehehehehehehehhehehehehehehehhehehehehehehehhehehehehehehehhehehehehehehehhehehehehehehehhehehehehehehehhehehehehehehehhehehehehehehehhehehehehehehehhehehehehehehehhehehehehehehehhehehehehehehehehehehehhehehehehehehehhehehehehehehehhehehehehehehehhehehehehehehehhehehehehehehehhehehehehehehehhehehehehehehehhehehehehehehehhehehehehehehehhehehehehehehehhehehehehehehehhehehehehehehehhehehehehehehehhehehehehehehehhehehehehehehehhehehehehehehehhehehehehehehehhehehehehehehehhehehehehehehehhehehehehehehehhehehehehehehehhehehehehehehehhehehehehehehehhehehehehehehehhehehehehehehehhehehehehehehehhehehehehehehehhehehehehehehehhehehehehehehehhehehehehehehehhehehehehehehehhehehehehehehehhehehehehehehehhehehehehehehehhehehehehehehehhehehehehehehehhehehehehehehehhehehehehehehehhehehehehehehehehehehehhehehehehehehehhehehehehehehehhehehehehehehehhehehehehehehehhehehehehehehehhehehehehehehehhehehehehehehehhehehehehehehehhehehehehehehehhehehehehehehehhehehehehehehehhehehehehehehehhehehehehehehehhehehehehehehehhehehehehehehehhehehehehehehehhehehehehehehehhehehehehehehehhehehehehehehehhehehehehehehehhehehehehehehehhehehehehehehehhehehehehehehehhehehehehehehehhehehehehehehehhehehehehehehehhehehehehehehehhehehehehehehehhehehehehehehehhehehehehehehehhehehehehehehehhehehehehehehehhehehehehehehehhehehehehehehehhehehehehehehehhehehehehehehehhehehehehehehehhehehehehehehehhehehehehehehehehehehehhehehehehehehehhehehehehehehehhehehehehehehehhehehehehehehehhehehehehehehehhehehehehehehehhehehehehehehehhehehehehehehehhehehehehehehehhehehehehehehehhehehehehehehehhehehehehehehehhehehehehehehehhehehehehehehehhehehehehehehehhehehehehehehehhehehehehehehehhehehehehehehehhehehehehehehehhehehehehehehehhehehehehehehehhehehehehehehehhehehehehehehehhehehehehehehehhehehehehehehehhehehehehehehehhehehehehehehehhehehehehehehehhehehehehehehehhehehehehehehehhehehehehehehehhehehehehehehehhehehehehehehehhehehehehehehehhehehehehehehehhehehehehehehehhehehehehehehehhehehehehehehehhehehehehehehehehehehehhehehehehehehehhehehehehehehehhehehehehehehehhehehehehehehehhehehehehehehehhehehehehehehehhehehehehehehehhehehehehehehehhehehehehehehehhehehehehehehehhehehehehehehehhehehehehehehehhehehehehehehehhehehehehehehehhehehehehehehehhehehehehehehehhehehehehehehehhehehehehehehehhehehehehehehehhehehehehehehehhehehehehehehehhehehehehehehehhehehehehehehehhehehehehehehehhehehehehehehehhehehehehehehehhehehehehehehehhehehehehehehehhehehehehehehehhehehehehehehehhehehehehehehehhehehehehehehehhehehehehehehehhehehehehehehehhehehehehehehehhehehehehehehehhehehehehehehehhehehehehehehehhehehehehehehe\" lol jarozielarz\n"
          ],
          "name": "stdout"
        }
      ]
    },
    {
      "cell_type": "code",
      "metadata": {
        "id": "aXTMjWm6QOLj",
        "colab_type": "code",
        "colab": {
          "base_uri": "https://localhost:8080/",
          "height": 1000
        },
        "outputId": "41378509-b2b9-490e-956d-39044305e826"
      },
      "source": [
        "!ngramcount --help"
      ],
      "execution_count": 25,
      "outputs": [
        {
          "output_type": "stream",
          "text": [
            "Count ngram from input file.\n",
            "\n",
            "  Usage: ngramcount [--options] [in.far [out.fst]]\n",
            "\n",
            "PROGRAM FLAGS:\n",
            "\n",
            "  --alpha: type = double, default = 1\n",
            "  Weight for first FST\n",
            "  --backoff_label: type = int64, default = 0\n",
            "  Backoff label\n",
            "  --beta: type = double, default = 1\n",
            "  Weight for second (and subsequent) FST(s)\n",
            "  --check_consistency: type = bool, default = false\n",
            "  Check model consistency\n",
            "  --context_pattern: type = string, default = \"\"\n",
            "  Pattern of contexts to count\n",
            "  --epsilon_as_backoff: type = bool, default = false\n",
            "  Treat epsilon in the input Fsts as backoff\n",
            "  --method: type = string, default = \"counts\"\n",
            "  One of: \"counts\", \"histograms\", \"count_of_counts\", \"count_of_histograms\"\n",
            "  --norm_eps: type = double, default = 0.001\n",
            "  Normalization check epsilon\n",
            "  --normalize: type = bool, default = false\n",
            "  Normalize resulting model\n",
            "  --order: type = int64, default = 3\n",
            "  Set maximal order of ngrams to be counted\n",
            "  --output_fst: type = bool, default = true\n",
            "  Output counts as fst (otherwise strings)\n",
            "  --require_symbols: type = bool, default = true\n",
            "  Require symbol tables? (default: yes)\n",
            "  --round_to_int: type = bool, default = false\n",
            "  Round all counts to integers\n",
            "\n",
            "LIBRARY FLAGS:\n",
            "\n",
            "Flags from: flags.cc\n",
            "  --help: type = bool, default = false\n",
            "  show usage information\n",
            "  --helpshort: type = bool, default = false\n",
            "  show brief usage information\n",
            "  --tmpdir: type = string, default = \"/tmp\"\n",
            "  temporary directory\n",
            "  --v: type = int32, default = 0\n",
            "  verbosity level\n",
            "\n",
            "Flags from: fst.cc\n",
            "  --fst_align: type = bool, default = false\n",
            "  Write FST data aligned where appropriate\n",
            "  --fst_default_cache_gc: type = bool, default = true\n",
            "  Enable garbage collection of cache\n",
            "  --fst_default_cache_gc_limit: type = int64, default = 1048576\n",
            "  Cache byte size that triggers garbage collection\n",
            "  --fst_read_mode: type = string, default = \"read\"\n",
            "  Default file reading mode for mappable files\n",
            "  --fst_verify_properties: type = bool, default = false\n",
            "  Verify FST properties queried by TestProperties\n",
            "  --save_relabel_ipairs: type = string, default = \"\"\n",
            "  Save input relabel pairs to file\n",
            "  --save_relabel_opairs: type = string, default = \"\"\n",
            "  Save output relabel pairs to file\n",
            "\n",
            "Flags from: ngram-output.cc\n",
            "  --end_symbol: type = string, default = \"</s>\"\n",
            "  Class label for sentence start\n",
            "  --start_symbol: type = string, default = \"<s>\"\n",
            "  Class label for sentence start\n",
            "\n",
            "Flags from: symbol-table.cc\n",
            "  --fst_compat_symbols: type = bool, default = true\n",
            "  Require symbol tables to match when appropriate\n",
            "  --fst_field_separator: type = string, default = \"\t \"\n",
            "  Set of characters used as a separator between printed fields\n",
            "\n",
            "Flags from: util.cc\n",
            "  --fst_error_fatal: type = bool, default = true\n",
            "  FST errors are fatal; o.w. return objects flagged as bad: e.g., FSTs: kError property set, FST weights: not a Member()\n",
            "  --ngram_error_fatal: type = bool, default = true\n",
            "  NGram errors are fatal; o.w. return objects flagged as bad:  e.g., NGramModel::Error() returns true.\n",
            "\n",
            "Flags from: weight.cc\n",
            "  --fst_weight_parentheses: type = string, default = \"\"\n",
            "  Characters enclosing the first weight of a printed composite weight (e.g., pair weight, tuple weight and derived classes) to ensure proper I/O of nested composite weights; must have size 0 (none) or 2 (open and close parenthesis)\n",
            "  --fst_weight_separator: type = string, default = \",\"\n",
            "  Character separator between printed composite weights; must be a single character\n",
            "\n"
          ],
          "name": "stdout"
        }
      ]
    },
    {
      "cell_type": "code",
      "metadata": {
        "id": "AvLLioQVgzgc",
        "colab_type": "code",
        "colab": {
          "base_uri": "https://localhost:8080/",
          "height": 34
        },
        "outputId": "6ede6d94-820e-406f-a2c6-fc3a54df21d4"
      },
      "source": [
        "os.chdir('/content')\n",
        "!mkdir extracted\n",
        "os.chdir('extracted')\n",
        "!cat /content/Poleval2020Task1Eval/nbest.txt | perl /content/effective-eureka/scripts/proc-extracted-pairs.pl\n",
        "os.chdir(..)"
      ],
      "execution_count": null,
      "outputs": [
        {
          "output_type": "stream",
          "text": [
            "mkdir: cannot create directory ‘extracted’: File exists\n"
          ],
          "name": "stdout"
        }
      ]
    },
    {
      "cell_type": "code",
      "metadata": {
        "id": "hzqgQZQXoAPt",
        "colab_type": "code",
        "colab": {}
      },
      "source": [
        "!apt-get install libngram-tools libngram-dev libfst-tools libfst-dev"
      ],
      "execution_count": null,
      "outputs": []
    },
    {
      "cell_type": "code",
      "metadata": {
        "id": "jyyYPa0tjI35",
        "colab_type": "code",
        "colab": {}
      },
      "source": [
        "!apt-get install cmake libeigen3-dev"
      ],
      "execution_count": null,
      "outputs": []
    },
    {
      "cell_type": "code",
      "metadata": {
        "id": "yymLZaDgzo9v",
        "colab_type": "code",
        "colab": {}
      },
      "source": [
        "os.chdir('/content')\n",
        "!rm -rf lexical\n",
        "os.chdir('effective-eureka')"
      ],
      "execution_count": null,
      "outputs": []
    },
    {
      "cell_type": "code",
      "metadata": {
        "id": "wu1H9vHSwvNS",
        "colab_type": "code",
        "colab": {
          "base_uri": "https://localhost:8080/",
          "height": 221
        },
        "outputId": "ae0031e3-4bdd-4f1e-a767-42fc6d440d1a"
      },
      "source": [
        "!git pull origin master"
      ],
      "execution_count": null,
      "outputs": [
        {
          "output_type": "stream",
          "text": [
            "remote: Enumerating objects: 7, done.\u001b[K\n",
            "remote: Counting objects:  14% (1/7)\u001b[K\rremote: Counting objects:  28% (2/7)\u001b[K\rremote: Counting objects:  42% (3/7)\u001b[K\rremote: Counting objects:  57% (4/7)\u001b[K\rremote: Counting objects:  71% (5/7)\u001b[K\rremote: Counting objects:  85% (6/7)\u001b[K\rremote: Counting objects: 100% (7/7)\u001b[K\rremote: Counting objects: 100% (7/7), done.\u001b[K\n",
            "remote: Compressing objects: 100% (1/1)\u001b[K\rremote: Compressing objects: 100% (1/1), done.\u001b[K\n",
            "remote: Total 4 (delta 3), reused 4 (delta 3), pack-reused 0\u001b[K\n",
            "Unpacking objects:  25% (1/4)   \rUnpacking objects:  50% (2/4)   \rUnpacking objects:  75% (3/4)   \rUnpacking objects: 100% (4/4)   \rUnpacking objects: 100% (4/4), done.\n",
            "From https://github.com/jimregan/effective-eureka\n",
            " * branch            master     -> FETCH_HEAD\n",
            "   9e0c4e7..0178d6d  master     -> origin/master\n",
            "Updating 9e0c4e7..0178d6d\n",
            "Fast-forward\n",
            " scripts/expand-lexical.pl | 48 \u001b[32m++++++++++++++++++++++++\u001b[m\u001b[31m-----------------------\u001b[m\n",
            " 1 file changed, 25 insertions(+), 23 deletions(-)\n"
          ],
          "name": "stdout"
        }
      ]
    },
    {
      "cell_type": "code",
      "metadata": {
        "id": "Ljd6qQeL2NM1",
        "colab_type": "code",
        "colab": {}
      },
      "source": [
        "os.chdir('/content/lexical')"
      ],
      "execution_count": 19,
      "outputs": []
    },
    {
      "cell_type": "code",
      "metadata": {
        "id": "5Gr24c0BlrTA",
        "colab_type": "code",
        "colab": {}
      },
      "source": [
        "!ls|grep -v 'syms.txt'|while read i;do syms=$(basename $i '.txt').syms.txt;fstcompile --isymbols=$syms --osymbols=$syms --keep_isymbols --keep_osymbols $i $(basename \"$i\" '.txt').fst;done"
      ],
      "execution_count": 20,
      "outputs": []
    }
  ]
}