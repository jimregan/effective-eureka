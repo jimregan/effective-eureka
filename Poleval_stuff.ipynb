{
  "nbformat": 4,
  "nbformat_minor": 0,
  "metadata": {
    "colab": {
      "name": "Poleval stuff.ipynb",
      "provenance": [],
      "authorship_tag": "ABX9TyPTMd7EdkRTdG/oNnzAOUTp",
      "include_colab_link": true
    },
    "kernelspec": {
      "name": "python3",
      "display_name": "Python 3"
    }
  },
  "cells": [
    {
      "cell_type": "markdown",
      "metadata": {
        "id": "view-in-github",
        "colab_type": "text"
      },
      "source": [
        "<a href=\"https://colab.research.google.com/github/jimregan/effective-eureka/blob/mlm-cli/Poleval_stuff.ipynb\" target=\"_parent\"><img src=\"https://colab.research.google.com/assets/colab-badge.svg\" alt=\"Open In Colab\"/></a>"
      ]
    },
    {
      "cell_type": "code",
      "metadata": {
        "id": "2Zw2Q0nQdyWS",
        "colab_type": "code",
        "colab": {}
      },
      "source": [
        "!apt install -q libtext-aspell-perl aspell-pl "
      ],
      "execution_count": null,
      "outputs": []
    },
    {
      "cell_type": "code",
      "metadata": {
        "id": "GQ4HCFjHfEm8",
        "colab_type": "code",
        "colab": {
          "base_uri": "https://localhost:8080/",
          "height": 136
        },
        "outputId": "20dc818b-e35f-42c8-e2d6-4f43196a9d36"
      },
      "source": [
        "!git clone https://github.com/jimregan/effective-eureka.git"
      ],
      "execution_count": null,
      "outputs": [
        {
          "output_type": "stream",
          "text": [
            "Cloning into 'effective-eureka'...\n",
            "remote: Enumerating objects: 703, done.\u001b[K\n",
            "remote: Counting objects: 100% (703/703), done.\u001b[K\n",
            "remote: Compressing objects: 100% (371/371), done.\u001b[K\n",
            "remote: Total 703 (delta 335), reused 650 (delta 290), pack-reused 0\u001b[K\n",
            "Receiving objects: 100% (703/703), 1.12 MiB | 14.15 MiB/s, done.\n",
            "Resolving deltas: 100% (335/335), done.\n"
          ],
          "name": "stdout"
        }
      ]
    },
    {
      "cell_type": "code",
      "metadata": {
        "id": "tZkij263fIw_",
        "colab_type": "code",
        "colab": {
          "base_uri": "https://localhost:8080/",
          "height": 204
        },
        "outputId": "7cf7c929-d223-4658-e66e-0a3d90fdfed6"
      },
      "source": [
        "!wget http://poleval.pl/task1/Poleval2020Task1Eval.tar.xz"
      ],
      "execution_count": null,
      "outputs": [
        {
          "output_type": "stream",
          "text": [
            "--2020-09-03 19:02:33--  http://poleval.pl/task1/Poleval2020Task1Eval.tar.xz\n",
            "Resolving poleval.pl (poleval.pl)... 213.135.36.94\n",
            "Connecting to poleval.pl (poleval.pl)|213.135.36.94|:80... connected.\n",
            "HTTP request sent, awaiting response... 200 OK\n",
            "Length: 12592244 (12M) [application/x-tar]\n",
            "Saving to: ‘Poleval2020Task1Eval.tar.xz’\n",
            "\n",
            "Poleval2020Task1Eva 100%[===================>]  12.01M  7.85MB/s    in 1.5s    \n",
            "\n",
            "2020-09-03 19:02:35 (7.85 MB/s) - ‘Poleval2020Task1Eval.tar.xz’ saved [12592244/12592244]\n",
            "\n"
          ],
          "name": "stdout"
        }
      ]
    },
    {
      "cell_type": "code",
      "metadata": {
        "id": "D2G3apkdfiM_",
        "colab_type": "code",
        "colab": {
          "base_uri": "https://localhost:8080/",
          "height": 85
        },
        "outputId": "ddcc03b9-22fd-4332-b8bd-00afc3abfbab"
      },
      "source": [
        "!tar xvf Poleval2020Task1Eval.tar.xz"
      ],
      "execution_count": null,
      "outputs": [
        {
          "output_type": "stream",
          "text": [
            "Poleval2020Task1Eval/\n",
            "Poleval2020Task1Eval/1best.txt\n",
            "Poleval2020Task1Eval/lat.txt\n",
            "Poleval2020Task1Eval/nbest.txt\n"
          ],
          "name": "stdout"
        }
      ]
    },
    {
      "cell_type": "code",
      "metadata": {
        "id": "ixc2O36OxKR3",
        "colab_type": "code",
        "colab": {}
      },
      "source": [
        "os.chdir('/content')"
      ],
      "execution_count": 73,
      "outputs": []
    },
    {
      "cell_type": "code",
      "metadata": {
        "id": "FFBV37eLfn-7",
        "colab_type": "code",
        "colab": {}
      },
      "source": [
        "import os\n",
        "!mkdir lexical\n",
        "os.chdir('lexical')\n",
        "!cat /content/Poleval2020Task1Eval/nbest.txt | perl /content/effective-eureka/scripts/expand-lexical.pl\n",
        "os.chdir('..')"
      ],
      "execution_count": 74,
      "outputs": []
    },
    {
      "cell_type": "code",
      "metadata": {
        "id": "YPnNYUWHWbFc",
        "colab_type": "code",
        "colab": {
          "base_uri": "https://localhost:8080/",
          "height": 136
        },
        "outputId": "ac1836bf-74ed-428e-e4d4-24e2a5db12e9"
      },
      "source": [
        "!git clone https://github.com/kpu/kenlm"
      ],
      "execution_count": 72,
      "outputs": [
        {
          "output_type": "stream",
          "text": [
            "Cloning into 'kenlm'...\n",
            "remote: Enumerating objects: 172, done.\u001b[K\n",
            "remote: Counting objects: 100% (172/172), done.\u001b[K\n",
            "remote: Compressing objects: 100% (131/131), done.\u001b[K\n",
            "remote: Total 13496 (delta 77), reused 100 (delta 37), pack-reused 13324\u001b[K\n",
            "Receiving objects: 100% (13496/13496), 5.45 MiB | 11.46 MiB/s, done.\n",
            "Resolving deltas: 100% (7722/7722), done.\n"
          ],
          "name": "stdout"
        }
      ]
    },
    {
      "cell_type": "code",
      "metadata": {
        "id": "AvLLioQVgzgc",
        "colab_type": "code",
        "colab": {
          "base_uri": "https://localhost:8080/",
          "height": 34
        },
        "outputId": "6ede6d94-820e-406f-a2c6-fc3a54df21d4"
      },
      "source": [
        "os.chdir('/content')\n",
        "!mkdir extracted\n",
        "os.chdir('extracted')\n",
        "!cat /content/Poleval2020Task1Eval/nbest.txt | perl /content/effective-eureka/scripts/proc-extracted-pairs.pl\n",
        "os.chdir(..)"
      ],
      "execution_count": null,
      "outputs": [
        {
          "output_type": "stream",
          "text": [
            "mkdir: cannot create directory ‘extracted’: File exists\n"
          ],
          "name": "stdout"
        }
      ]
    },
    {
      "cell_type": "code",
      "metadata": {
        "id": "zdlM2fJwpZyY",
        "colab_type": "code",
        "colab": {
          "base_uri": "https://localhost:8080/",
          "height": 204
        },
        "outputId": "a2233e48-788e-4dca-ea2e-4de9fd51eb41"
      },
      "source": [
        "!wget http://mowa.clarin-pl.eu/korpusy/large.arpa.gz"
      ],
      "execution_count": null,
      "outputs": [
        {
          "output_type": "stream",
          "text": [
            "--2020-09-03 19:57:24--  http://mowa.clarin-pl.eu/korpusy/large.arpa.gz\n",
            "Resolving mowa.clarin-pl.eu (mowa.clarin-pl.eu)... 156.17.135.37\n",
            "Connecting to mowa.clarin-pl.eu (mowa.clarin-pl.eu)|156.17.135.37|:80... connected.\n",
            "HTTP request sent, awaiting response... 200 OK\n",
            "Length: 883023363 (842M) [application/x-gzip]\n",
            "Saving to: ‘large.arpa.gz’\n",
            "\n",
            "large.arpa.gz       100%[===================>] 842.12M  22.7MB/s    in 36s     \n",
            "\n",
            "2020-09-03 19:58:01 (23.1 MB/s) - ‘large.arpa.gz’ saved [883023363/883023363]\n",
            "\n"
          ],
          "name": "stdout"
        }
      ]
    },
    {
      "cell_type": "code",
      "metadata": {
        "id": "bYYoUfLJrKOe",
        "colab_type": "code",
        "colab": {}
      },
      "source": [
        "!gzip -d large.arpa.gz"
      ],
      "execution_count": null,
      "outputs": []
    },
    {
      "cell_type": "code",
      "metadata": {
        "id": "hzqgQZQXoAPt",
        "colab_type": "code",
        "colab": {}
      },
      "source": [
        "!apt-get install libngram-tools libngram-dev libfst-tools libfst-dev"
      ],
      "execution_count": null,
      "outputs": []
    },
    {
      "cell_type": "code",
      "metadata": {
        "id": "jyyYPa0tjI35",
        "colab_type": "code",
        "colab": {}
      },
      "source": [
        "!apt-get install cmake libeigen3-dev"
      ],
      "execution_count": null,
      "outputs": []
    },
    {
      "cell_type": "code",
      "metadata": {
        "id": "bkc-nOPajC8y",
        "colab_type": "code",
        "colab": {}
      },
      "source": [
        "import os\n",
        "os.chdir('/content/kenlm')\n",
        "!mkdir build\n",
        "os.chdir('build')\n",
        "!cmake ..\n",
        "!make -j 4"
      ],
      "execution_count": null,
      "outputs": []
    },
    {
      "cell_type": "code",
      "metadata": {
        "id": "bWkBTQxX-QSY",
        "colab_type": "code",
        "colab": {
          "base_uri": "https://localhost:8080/",
          "height": 85
        },
        "outputId": "6d1f5405-39e6-4993-a9fa-cb36ae74899a"
      },
      "source": [
        "os.chdir('/content')\n",
        "!/content/kenlm/build/bin/build_binary /content/large.arpa /content/large.bin"
      ],
      "execution_count": 77,
      "outputs": [
        {
          "output_type": "stream",
          "text": [
            "Reading /content/large.arpa\n",
            "----5---10---15---20---25---30---35---40---45---50---55---60---65---70---75---80---85---90---95--100\n",
            "****************************************************************************************************\n",
            "SUCCESS\n"
          ],
          "name": "stdout"
        }
      ]
    },
    {
      "cell_type": "code",
      "metadata": {
        "id": "yHwcuezwkGMe",
        "colab_type": "code",
        "colab": {}
      },
      "source": [
        "!apt install -q libtool autoconf automake"
      ],
      "execution_count": null,
      "outputs": []
    },
    {
      "cell_type": "code",
      "metadata": {
        "id": "BBvKN7htj5GP",
        "colab_type": "code",
        "colab": {
          "base_uri": "https://localhost:8080/",
          "height": 170
        },
        "outputId": "44152d05-2740-4468-c575-123aa89934cd"
      },
      "source": [
        "os.chdir('/content/effective-eureka/fstprintstrings')\n",
        "\n",
        "!libtoolize\n",
        "!automake --add-missing\n",
        "!autoreconf\n",
        "!automake\n",
        "!autoconf"
      ],
      "execution_count": 22,
      "outputs": [
        {
          "output_type": "stream",
          "text": [
            "libtoolize: Consider adding 'AC_CONFIG_MACRO_DIRS([m4])' to configure.ac,\n",
            "libtoolize: and rerunning libtoolize and aclocal.\n",
            "libtoolize: Consider adding '-I m4' to ACLOCAL_AMFLAGS in Makefile.am.\n",
            "configure.ac:6: installing './compile'\n",
            "configure.ac:6: installing './config.guess'\n",
            "configure.ac:6: installing './config.sub'\n",
            "configure.ac:2: installing './install-sh'\n",
            "configure.ac:2: installing './missing'\n",
            "Makefile.am: installing './depcomp'\n"
          ],
          "name": "stdout"
        }
      ]
    },
    {
      "cell_type": "code",
      "metadata": {
        "id": "9Jp8QBcGlbtN",
        "colab_type": "code",
        "colab": {}
      },
      "source": [
        "!./configure\n",
        "!make"
      ],
      "execution_count": null,
      "outputs": []
    },
    {
      "cell_type": "code",
      "metadata": {
        "id": "EmbpIKrElh5i",
        "colab_type": "code",
        "colab": {}
      },
      "source": [
        "os.chdir('/content/lexical')"
      ],
      "execution_count": 49,
      "outputs": []
    },
    {
      "cell_type": "code",
      "metadata": {
        "id": "9DY1Ruo8mkOu",
        "colab_type": "code",
        "colab": {
          "base_uri": "https://localhost:8080/",
          "height": 34
        },
        "outputId": "fbf89cc4-306e-4446-9873-070f72e17203"
      },
      "source": [
        "!echo '<eps> 0' > symbols.txt\n",
        "!cat *.syms.txt|grep -v '<eps>'|awk '{print $1}'|sort|uniq|awk '{print $1 \" \" NR}' >> symbols.txt\n"
      ],
      "execution_count": 34,
      "outputs": [
        {
          "output_type": "stream",
          "text": [
            "^C\n"
          ],
          "name": "stdout"
        }
      ]
    },
    {
      "cell_type": "code",
      "metadata": {
        "id": "yymLZaDgzo9v",
        "colab_type": "code",
        "colab": {}
      },
      "source": [
        "os.chdir('/content')\n",
        "!rm -rf lexical\n",
        "os.chdir('effective-eureka')"
      ],
      "execution_count": 70,
      "outputs": []
    },
    {
      "cell_type": "code",
      "metadata": {
        "id": "wu1H9vHSwvNS",
        "colab_type": "code",
        "colab": {
          "base_uri": "https://localhost:8080/",
          "height": 221
        },
        "outputId": "92710a33-e426-438f-f756-bb7ce111109f"
      },
      "source": [
        "!git pull origin master"
      ],
      "execution_count": 71,
      "outputs": [
        {
          "output_type": "stream",
          "text": [
            "remote: Enumerating objects: 7, done.\u001b[K\n",
            "remote: Counting objects:  14% (1/7)\u001b[K\rremote: Counting objects:  28% (2/7)\u001b[K\rremote: Counting objects:  42% (3/7)\u001b[K\rremote: Counting objects:  57% (4/7)\u001b[K\rremote: Counting objects:  71% (5/7)\u001b[K\rremote: Counting objects:  85% (6/7)\u001b[K\rremote: Counting objects: 100% (7/7)\u001b[K\rremote: Counting objects: 100% (7/7), done.\u001b[K\n",
            "remote: Compressing objects: 100% (1/1)\u001b[K\rremote: Compressing objects: 100% (1/1), done.\u001b[K\n",
            "remote: Total 4 (delta 3), reused 4 (delta 3), pack-reused 0\u001b[K\n",
            "Unpacking objects:  25% (1/4)   \rUnpacking objects:  50% (2/4)   \rUnpacking objects:  75% (3/4)   \rUnpacking objects: 100% (4/4)   \rUnpacking objects: 100% (4/4), done.\n",
            "From https://github.com/jimregan/effective-eureka\n",
            " * branch            master     -> FETCH_HEAD\n",
            "   e158c8c..12b46ff  master     -> origin/master\n",
            "Updating e158c8c..12b46ff\n",
            "Fast-forward\n",
            " scripts/expand-lexical.pl | 2 \u001b[32m+\u001b[m\u001b[31m-\u001b[m\n",
            " 1 file changed, 1 insertion(+), 1 deletion(-)\n"
          ],
          "name": "stdout"
        }
      ]
    },
    {
      "cell_type": "code",
      "metadata": {
        "id": "Ljd6qQeL2NM1",
        "colab_type": "code",
        "colab": {}
      },
      "source": [
        "os.chdir('/content/lexical')"
      ],
      "execution_count": 78,
      "outputs": []
    },
    {
      "cell_type": "code",
      "metadata": {
        "id": "5Gr24c0BlrTA",
        "colab_type": "code",
        "colab": {}
      },
      "source": [
        "!ls|grep -v 'syms.txt'|while read i;do syms=$(basename $i '.txt').syms.txt;fstcompile --isymbols=$syms --osymbols=$syms --keep_isymbols --keep_osymbols $i $(basename \"$i\" '.txt').fst;done"
      ],
      "execution_count": null,
      "outputs": []
    },
    {
      "cell_type": "code",
      "metadata": {
        "id": "apaH7bmBAlD1",
        "colab_type": "code",
        "colab": {}
      },
      "source": [
        "!/content/effective-eureka/fstprintstrings/fstprintstrings --use_separator  PL0448_pl-50.fst"
      ],
      "execution_count": null,
      "outputs": []
    }
  ]
}