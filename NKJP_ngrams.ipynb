{
  "nbformat": 4,
  "nbformat_minor": 0,
  "metadata": {
    "colab": {
      "name": "NKJP ngrams.ipynb",
      "provenance": [],
      "authorship_tag": "ABX9TyOGEP5aVhGbFrfN9XMovF/l",
      "include_colab_link": true
    },
    "kernelspec": {
      "name": "python3",
      "display_name": "Python 3"
    }
  },
  "cells": [
    {
      "cell_type": "markdown",
      "metadata": {
        "id": "view-in-github",
        "colab_type": "text"
      },
      "source": [
        "<a href=\"https://colab.research.google.com/github/jimregan/effective-eureka/blob/mlm-cli/NKJP_ngrams.ipynb\" target=\"_parent\"><img src=\"https://colab.research.google.com/assets/colab-badge.svg\" alt=\"Open In Colab\"/></a>"
      ]
    },
    {
      "cell_type": "code",
      "metadata": {
        "id": "xPmihedWD0f4",
        "colab_type": "code",
        "colab": {}
      },
      "source": [
        "!apt-get install libngram-tools libngram-dev libfst-tools libfst-dev"
      ],
      "execution_count": null,
      "outputs": []
    },
    {
      "cell_type": "markdown",
      "metadata": {
        "id": "Se0o4rcZFXdJ",
        "colab_type": "text"
      },
      "source": [
        "# Download ngrams"
      ]
    },
    {
      "cell_type": "markdown",
      "metadata": {
        "id": "d6m7lUuAEKjl",
        "colab_type": "text"
      },
      "source": [
        "The [NKJP ngrams](http://zil.ipipan.waw.pl/NKJPNGrams) are a bit of a pain to download"
      ]
    },
    {
      "cell_type": "code",
      "metadata": {
        "id": "bjoHGvz1EEsI",
        "colab_type": "code",
        "colab": {
          "base_uri": "https://localhost:8080/",
          "height": 68
        },
        "outputId": "fb9551d3-961a-47e5-dab4-0d43fc240053"
      },
      "source": [
        "!curl 'http://zil.ipipan.waw.pl/NKJPNGrams?action=AttachFile&do=get&target=1grams.gz' \\\n",
        "  -H 'Connection: keep-alive' \\\n",
        "  -H 'Upgrade-Insecure-Requests: 1' \\\n",
        "  -H 'DNT: 1' \\\n",
        "  -H 'User-Agent: Mozilla/5.0 (Windows NT 10.0; Win64; x64) AppleWebKit/537.36 (KHTML, like Gecko) Chrome/85.0.4183.83 Safari/537.36' \\\n",
        "  -H 'Accept: text/html,application/xhtml+xml,application/xml;q=0.9,image/avif,image/webp,image/apng,*/*;q=0.8,application/signed-exchange;v=b3;q=0.9' \\\n",
        "  -H 'Referer: http://zil.ipipan.waw.pl/NKJPNGrams?action=AttachFile&do=view&target=1grams.gz' \\\n",
        "  -H 'Accept-Language: en-US,en;q=0.9,pl;q=0.8,ga;q=0.7' \\\n",
        "  -H 'Cookie: __utmc=194970101; _ga=GA1.3.1408513166.1597829521; __utmc=200660773; _gid=GA1.3.1970424516.1599202688; __utma=194970101.1408513166.1597829521.1599209630.1599217650.9; __utmz=194970101.1599217650.9.8.utmcsr=google|utmccn=(organic)|utmcmd=organic|utmctr=(not%20provided); __utmz=200660773.1599217657.6.4.utmcsr=clip.ipipan.waw.pl|utmccn=(referral)|utmcmd=referral|utmcct=/NationalCorpusOfPolish; __utma=200660773.1408513166.1597829521.1599217657.1599222085.7; _gat=1; __utmb=200660773.3.9.1599222148910' \\\n",
        "  --compressed \\\n",
        "  --insecure > 1grams.gz"
      ],
      "execution_count": 2,
      "outputs": [
        {
          "output_type": "stream",
          "text": [
            "  % Total    % Received % Xferd  Average Speed   Time    Time     Time  Current\n",
            "                                 Dload  Upload   Total   Spent    Left  Speed\n",
            "100 21.6M  100 21.6M    0     0  6195k      0  0:00:03  0:00:03 --:--:-- 6195k\n"
          ],
          "name": "stdout"
        }
      ]
    },
    {
      "cell_type": "code",
      "metadata": {
        "id": "uFxg-aTKEo7H",
        "colab_type": "code",
        "colab": {
          "base_uri": "https://localhost:8080/",
          "height": 68
        },
        "outputId": "c3b9cba8-9c75-4dd0-8719-f7c0f25ecbeb"
      },
      "source": [
        "!curl 'http://zil.ipipan.waw.pl/NKJPNGrams?action=AttachFile&do=get&target=2grams.gz' \\\n",
        "  -H 'Connection: keep-alive' \\\n",
        "  -H 'Upgrade-Insecure-Requests: 1' \\\n",
        "  -H 'DNT: 1' \\\n",
        "  -H 'User-Agent: Mozilla/5.0 (Windows NT 10.0; Win64; x64) AppleWebKit/537.36 (KHTML, like Gecko) Chrome/85.0.4183.83 Safari/537.36' \\\n",
        "  -H 'Accept: text/html,application/xhtml+xml,application/xml;q=0.9,image/avif,image/webp,image/apng,*/*;q=0.8,application/signed-exchange;v=b3;q=0.9' \\\n",
        "  -H 'Referer: http://zil.ipipan.waw.pl/NKJPNGrams?action=AttachFile&do=view&target=1grams.gz' \\\n",
        "  -H 'Accept-Language: en-US,en;q=0.9,pl;q=0.8,ga;q=0.7' \\\n",
        "  -H 'Cookie: __utmc=194970101; _ga=GA1.3.1408513166.1597829521; __utmc=200660773; _gid=GA1.3.1970424516.1599202688; __utma=194970101.1408513166.1597829521.1599209630.1599217650.9; __utmz=194970101.1599217650.9.8.utmcsr=google|utmccn=(organic)|utmcmd=organic|utmctr=(not%20provided); __utmz=200660773.1599217657.6.4.utmcsr=clip.ipipan.waw.pl|utmccn=(referral)|utmcmd=referral|utmcct=/NationalCorpusOfPolish; __utma=200660773.1408513166.1597829521.1599217657.1599222085.7; __utmb=200660773.3.9.1599222148910' \\\n",
        "  --compressed \\\n",
        "  --insecure > 2grams.gz"
      ],
      "execution_count": 5,
      "outputs": [
        {
          "output_type": "stream",
          "text": [
            "  % Total    % Received % Xferd  Average Speed   Time    Time     Time  Current\n",
            "                                 Dload  Upload   Total   Spent    Left  Speed\n",
            "100  376M  100  376M    0     0  16.5M      0  0:00:22  0:00:22 --:--:-- 18.3M\n"
          ],
          "name": "stdout"
        }
      ]
    },
    {
      "cell_type": "code",
      "metadata": {
        "id": "cccluVMiFC8E",
        "colab_type": "code",
        "colab": {
          "base_uri": "https://localhost:8080/",
          "height": 68
        },
        "outputId": "a1ab0760-998a-45e4-85f1-3ae42332868f"
      },
      "source": [
        "!curl 'http://zil.ipipan.waw.pl/NKJPNGrams?action=AttachFile&do=get&target=3grams.gz' \\\n",
        "  -H 'Connection: keep-alive' \\\n",
        "  -H 'Upgrade-Insecure-Requests: 1' \\\n",
        "  -H 'DNT: 1' \\\n",
        "  -H 'User-Agent: Mozilla/5.0 (Windows NT 10.0; Win64; x64) AppleWebKit/537.36 (KHTML, like Gecko) Chrome/85.0.4183.83 Safari/537.36' \\\n",
        "  -H 'Accept: text/html,application/xhtml+xml,application/xml;q=0.9,image/avif,image/webp,image/apng,*/*;q=0.8,application/signed-exchange;v=b3;q=0.9' \\\n",
        "  -H 'Referer: http://zil.ipipan.waw.pl/NKJPNGrams?action=AttachFile&do=view&target=1grams.gz' \\\n",
        "  -H 'Accept-Language: en-US,en;q=0.9,pl;q=0.8,ga;q=0.7' \\\n",
        "  -H 'Cookie: __utmc=194970101; _ga=GA1.3.1408513166.1597829521; __utmc=200660773; _gid=GA1.3.1970424516.1599202688; __utma=194970101.1408513166.1597829521.1599209630.1599217650.9; __utmz=194970101.1599217650.9.8.utmcsr=google|utmccn=(organic)|utmcmd=organic|utmctr=(not%20provided); __utmz=200660773.1599217657.6.4.utmcsr=clip.ipipan.waw.pl|utmccn=(referral)|utmcmd=referral|utmcct=/NationalCorpusOfPolish; __utma=200660773.1408513166.1597829521.1599217657.1599222085.7; __utmb=200660773.3.9.1599222148910' \\\n",
        "  --compressed \\\n",
        "  --insecure > 3grams.gz"
      ],
      "execution_count": 6,
      "outputs": [
        {
          "output_type": "stream",
          "text": [
            "  % Total    % Received % Xferd  Average Speed   Time    Time     Time  Current\n",
            "                                 Dload  Upload   Total   Spent    Left  Speed\n",
            "100 1115M  100 1115M    0     0  17.4M      0  0:01:04  0:01:04 --:--:-- 19.0M\n"
          ],
          "name": "stdout"
        }
      ]
    },
    {
      "cell_type": "code",
      "metadata": {
        "id": "70IUefW3FG-O",
        "colab_type": "code",
        "colab": {
          "base_uri": "https://localhost:8080/",
          "height": 68
        },
        "outputId": "f384bf30-7d45-4c5e-f9bd-35575b20f146"
      },
      "source": [
        "!curl 'http://zil.ipipan.waw.pl/NKJPNGrams?action=AttachFile&do=get&target=4grams.gz' \\\n",
        "  -H 'Connection: keep-alive' \\\n",
        "  -H 'Upgrade-Insecure-Requests: 1' \\\n",
        "  -H 'DNT: 1' \\\n",
        "  -H 'User-Agent: Mozilla/5.0 (Windows NT 10.0; Win64; x64) AppleWebKit/537.36 (KHTML, like Gecko) Chrome/85.0.4183.83 Safari/537.36' \\\n",
        "  -H 'Accept: text/html,application/xhtml+xml,application/xml;q=0.9,image/avif,image/webp,image/apng,*/*;q=0.8,application/signed-exchange;v=b3;q=0.9' \\\n",
        "  -H 'Referer: http://zil.ipipan.waw.pl/NKJPNGrams?action=AttachFile&do=view&target=1grams.gz' \\\n",
        "  -H 'Accept-Language: en-US,en;q=0.9,pl;q=0.8,ga;q=0.7' \\\n",
        "  -H 'Cookie: __utmc=194970101; _ga=GA1.3.1408513166.1597829521; __utmc=200660773; _gid=GA1.3.1970424516.1599202688; __utma=194970101.1408513166.1597829521.1599209630.1599217650.9; __utmz=194970101.1599217650.9.8.utmcsr=google|utmccn=(organic)|utmcmd=organic|utmctr=(not%20provided); __utmz=200660773.1599217657.6.4.utmcsr=clip.ipipan.waw.pl|utmccn=(referral)|utmcmd=referral|utmcct=/NationalCorpusOfPolish; __utma=200660773.1408513166.1597829521.1599217657.1599222085.7; __utmb=200660773.3.9.1599222148910' \\\n",
        "  --compressed \\\n",
        "  --insecure > 4grams.gz"
      ],
      "execution_count": 7,
      "outputs": [
        {
          "output_type": "stream",
          "text": [
            "  % Total    % Received % Xferd  Average Speed   Time    Time     Time  Current\n",
            "                                 Dload  Upload   Total   Spent    Left  Speed\n",
            "100 1918M  100 1918M    0     0  17.9M      0  0:01:46  0:01:46 --:--:-- 18.6M\n"
          ],
          "name": "stdout"
        }
      ]
    },
    {
      "cell_type": "code",
      "metadata": {
        "id": "9yhm6BbGFKUI",
        "colab_type": "code",
        "colab": {
          "base_uri": "https://localhost:8080/",
          "height": 0
        },
        "outputId": "1cd05985-ff9e-4afa-beb9-e1f8b2b803ad"
      },
      "source": [
        "!curl 'http://zil.ipipan.waw.pl/NKJPNGrams?action=AttachFile&do=get&target=5grams.gz' \\\n",
        "  -H 'Connection: keep-alive' \\\n",
        "  -H 'Upgrade-Insecure-Requests: 1' \\\n",
        "  -H 'DNT: 1' \\\n",
        "  -H 'User-Agent: Mozilla/5.0 (Windows NT 10.0; Win64; x64) AppleWebKit/537.36 (KHTML, like Gecko) Chrome/85.0.4183.83 Safari/537.36' \\\n",
        "  -H 'Accept: text/html,application/xhtml+xml,application/xml;q=0.9,image/avif,image/webp,image/apng,*/*;q=0.8,application/signed-exchange;v=b3;q=0.9' \\\n",
        "  -H 'Referer: http://zil.ipipan.waw.pl/NKJPNGrams?action=AttachFile&do=view&target=1grams.gz' \\\n",
        "  -H 'Accept-Language: en-US,en;q=0.9,pl;q=0.8,ga;q=0.7' \\\n",
        "  -H 'Cookie: __utmc=194970101; _ga=GA1.3.1408513166.1597829521; __utmc=200660773; _gid=GA1.3.1970424516.1599202688; __utma=194970101.1408513166.1597829521.1599209630.1599217650.9; __utmz=194970101.1599217650.9.8.utmcsr=google|utmccn=(organic)|utmcmd=organic|utmctr=(not%20provided); __utmz=200660773.1599217657.6.4.utmcsr=clip.ipipan.waw.pl|utmccn=(referral)|utmcmd=referral|utmcct=/NationalCorpusOfPolish; __utma=200660773.1408513166.1597829521.1599217657.1599222085.7; __utmb=200660773.3.9.1599222148910' \\\n",
        "  --compressed \\\n",
        "  --insecure > 5grams.gz"
      ],
      "execution_count": 8,
      "outputs": [
        {
          "output_type": "stream",
          "text": [
            "  % Total    % Received % Xferd  Average Speed   Time    Time     Time  Current\n",
            "                                 Dload  Upload   Total   Spent    Left  Speed\n",
            "100 2684M  100 2684M    0     0  17.8M      0  0:02:30  0:02:30 --:--:-- 17.9M\n"
          ],
          "name": "stdout"
        }
      ]
    },
    {
      "cell_type": "markdown",
      "metadata": {
        "id": "nXxvuITcFyYO",
        "colab_type": "text"
      },
      "source": [
        "# Decompress and clean"
      ]
    },
    {
      "cell_type": "code",
      "metadata": {
        "id": "RmCE_3tNF5xG",
        "colab_type": "code",
        "colab": {}
      },
      "source": [
        "!wget https://raw.githubusercontent.com/jimregan/effective-eureka/master/scripts/clean-nkjp.pl"
      ],
      "execution_count": null,
      "outputs": []
    },
    {
      "cell_type": "code",
      "metadata": {
        "id": "J5sQS0MSGRhE",
        "colab_type": "code",
        "colab": {}
      },
      "source": [
        "!for i in [1-5]grams.gz;do zcat $i|perl clean-nkjp.pl |sort|uniq -c > $(basename $i '.gz').txt;done"
      ],
      "execution_count": null,
      "outputs": []
    },
    {
      "cell_type": "code",
      "metadata": {
        "id": "1h_bGGavGswm",
        "colab_type": "code",
        "colab": {}
      },
      "source": [
        "!for i in [1-5]grams.txt;do cat $i|perl -ane 'my @t=split/ /;my $c=shift @t;print join(\" \", @t) . \" $c\\n\";' > $i.fin;done"
      ],
      "execution_count": null,
      "outputs": []
    }
  ]
}